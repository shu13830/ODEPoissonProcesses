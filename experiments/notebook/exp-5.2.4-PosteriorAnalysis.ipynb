{
 "cells": [
  {
   "cell_type": "markdown",
   "source": [
    "# ***Modeling with Non-available components with SIR Model***\n",
    "---"
   ],
   "metadata": {}
  },
  {
   "cell_type": "markdown",
   "source": [
    "Import packages"
   ],
   "metadata": {}
  },
  {
   "outputs": [],
   "cell_type": "code",
   "source": [
    "using ODEPoissonProcesses\n",
    "\n",
    "using DataFrames\n",
    "using Serialization\n",
    "using Random\n",
    "using Serialization\n",
    "using Plots\n",
    "using Plots.PlotMeasures\n",
    "using StatsPlots\n",
    "using StatsBase\n",
    "using LaTeXStrings\n",
    "\n",
    "seed = 1\n",
    "_dir = @__DIR__;\n",
    "if ~Base.isdir(\"$(_dir)/../results/img\")\n",
    "    Base.mkdir(\"$(_dir)/../results/img\")\n",
    "end"
   ],
   "metadata": {},
   "execution_count": null
  },
  {
   "cell_type": "markdown",
   "source": [
    "## ***1. Load simulated data and results***"
   ],
   "metadata": {}
  },
  {
   "outputs": [],
   "cell_type": "code",
   "source": [
    "open(\"$(_dir)/../results/exp-5.2.4-Infected_seed$(seed).dat\", \"r\") do io\n",
    "    global results = Serialization.deserialize(io)\n",
    "end;\n",
    "\n",
    "model_names = [\"sir_pois\", \"i_pois\"]\n",
    "ode_figs = []\n",
    "event_figs = []\n",
    "\n",
    "data = results[\"data\"]\n",
    "\n",
    "mod_sir, chain_sir = results[\"sir_pois\"].mod, results[\"sir_pois\"].chain\n",
    "mod_i, chain_i = results[\"i_pois\"].mod, results[\"i_pois\"].chain\n",
    "\n",
    "X̂s_sir = cat(ODEPoissonProcesses.get_posterior_X̂_samples(mod_sir, chain_sir)..., dims=3);\n",
    "X̂s_i = cat(ODEPoissonProcesses.get_posterior_X̂_samples(mod_i, chain_i)..., dims=3);\n",
    "\n",
    "Zs_sir = exp.(X̂s_sir)\n",
    "Zs_i = exp.(X̂s_i)\n",
    "\n",
    "θ_samples_sir = hcat(ODEPoissonProcesses.get_posterior_θ_samples(mod_sir, chain_sir)...);\n",
    "θ_samples_i = hcat(ODEPoissonProcesses.get_posterior_θ_samples(mod_i, chain_i)...);\n",
    "\n",
    "a_samples_sir = θ_samples_sir[1,:]\n",
    "a_samples_i = θ_samples_i[1,:]\n",
    "b_samples_sir = θ_samples_sir[2,:]\n",
    "b_samples_i = θ_samples_i[2,:];"
   ],
   "metadata": {},
   "execution_count": null
  },
  {
   "cell_type": "markdown",
   "source": [
    "## ***2. Plot results***\n",
    "Plot data and estimated dynamics compared to ground-truth"
   ],
   "metadata": {}
  },
  {
   "outputs": [],
   "cell_type": "code",
   "source": [
    "p = plot(\n",
    "    ODEPoissonProcesses.eventplot(data, alpha=0.75, xlims=(0, 1.)),\n",
    "    ODEPoissonProcesses.eventplot(data, alpha=0.75, xlims=(0, 1.), visible_components=[2]),\n",
    "    (\n",
    "        ODEPoissonProcesses.draw_gt_and_est_ode(data, mod_sir, Zs_sir, qlow=0.125, qhigh=0.875, extrapolation=false);\n",
    "        ylims!(0,15);\n",
    "        xlabel!(\"time\");\n",
    "        ylabel!(\"z = exp(x)\");\n",
    "        annotate!(0.2, 13, text(\"S\", :blue, \"Times\"));\n",
    "        annotate!(0.5, 9, text(\"I\", :red, \"Times\"));\n",
    "        annotate!(0.8, 11, text(\"R\", :mediumseagreen, \"Times\"))\n",
    "    ),\n",
    "    (\n",
    "        ODEPoissonProcesses.draw_gt_and_est_ode(data, mod_i, Zs_i, qlow=0.125, qhigh=0.875, extrapolation=false);\n",
    "        ylims!(0,15);\n",
    "        xlabel!(\"time\");\n",
    "        ylabel!(\"z = exp(x)\");\n",
    "        annotate!(0.2, 13, text(\"S\", :blue, \"Times\"));\n",
    "        annotate!(0.5, 9, text(\"I\", :red, \"Times\"));\n",
    "        annotate!(0.8, 11, text(\"R\", :mediumseagreen, \"Times\"))\n",
    "    ),\n",
    "    grid=:none,\n",
    "    layout=Plots.grid(2,2, heights=[0.2, 0.8]),\n",
    "    size=(800,350),\n",
    "    fontfamily=\"Times\",\n",
    "    labelfontsize=16,\n",
    "    tickfontsize=16,\n",
    "    margin=7mm\n",
    "    )"
   ],
   "metadata": {},
   "execution_count": null
  },
  {
   "cell_type": "markdown",
   "source": [
    "Save figure"
   ],
   "metadata": {}
  },
  {
   "outputs": [],
   "cell_type": "code",
   "source": [
    "Plots.pdf(p, \"$(_dir)/../results/img/exp-5.2.4-Infected_dynamics_seed$(seed).pdf\");"
   ],
   "metadata": {},
   "execution_count": null
  },
  {
   "cell_type": "markdown",
   "source": [
    "Plot estimated θ compared to ground-truth"
   ],
   "metadata": {}
  },
  {
   "outputs": [],
   "cell_type": "code",
   "source": [
    "p = plot(\n",
    "    xticks=([1.5,4.5], [\"a\", \"b\"]),\n",
    "    xlims=(0, 6),\n",
    "    grid=:none,\n",
    "    legend=:outerright,\n",
    "    foreground_color_legend = nothing,\n",
    "    size=(900,200),\n",
    "    legendfontsize=16,\n",
    "    tickfontsize=16,\n",
    "    bottommargin=3mm,\n",
    "    fontfamily=\"Times\"\n",
    ")\n",
    "boxplot!(ones(1000), a_samples_sir, c=:black, outliers=false, label=\"Observations: S, I, R\")\n",
    "boxplot!(ones(1000)*2, a_samples_i, c=:gray, outliers=false, label=\"Only I observed\")\n",
    "boxplot!(ones(1000)*4, b_samples_sir, c=:black, outliers=false, label=:none)\n",
    "boxplot!(ones(1000)*5, b_samples_i, c=:gray, outliers=false, label=:none)\n",
    "plot!([0.5,2.5], [data.θ.a,data.θ.a], c=:red, lw=2, ls=:dash, label=\"Ground-truth\")\n",
    "plot!([3.5,5.5], [data.θ.b,data.θ.b], c=:red, lw=2, ls=:dash, label=:none)"
   ],
   "metadata": {},
   "execution_count": null
  },
  {
   "cell_type": "markdown",
   "source": [
    "Save figure"
   ],
   "metadata": {}
  },
  {
   "outputs": [],
   "cell_type": "code",
   "source": [
    "Plots.pdf(p, \"$(_dir)/../results/img/exp-5.2.4-Infected_theta_seed$(seed).pdf\");"
   ],
   "metadata": {},
   "execution_count": null
  },
  {
   "cell_type": "markdown",
   "source": [
    "---\n",
    "\n",
    "*This notebook was generated using [Literate.jl](https://github.com/fredrikekre/Literate.jl).*"
   ],
   "metadata": {}
  }
 ],
 "nbformat_minor": 3,
 "metadata": {
  "language_info": {
   "file_extension": ".jl",
   "mimetype": "application/julia",
   "name": "julia",
   "version": "1.6.7"
  },
  "kernelspec": {
   "name": "julia-1.6",
   "display_name": "Julia 1.6.7",
   "language": "julia"
  }
 },
 "nbformat": 4
}
