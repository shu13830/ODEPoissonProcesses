{
 "cells": [
  {
   "cell_type": "markdown",
   "source": [
    "# ***Application 1: Patent Application Event Analysis***\n",
    "---"
   ],
   "metadata": {}
  },
  {
   "cell_type": "markdown",
   "source": [
    "Install packages"
   ],
   "metadata": {}
  },
  {
   "outputs": [],
   "cell_type": "code",
   "source": [
    "import Pkg\n",
    "Pkg.add(\"PythonPlot\")"
   ],
   "metadata": {},
   "execution_count": null
  },
  {
   "cell_type": "markdown",
   "source": [
    "Import packages"
   ],
   "metadata": {}
  },
  {
   "outputs": [],
   "cell_type": "code",
   "source": [
    "using ODEPoissonProcesses\n",
    "using CSV\n",
    "using DataFrames\n",
    "using Distributions\n",
    "using Random\n",
    "using Serialization\n",
    "using Plots\n",
    "using Plots.PlotMeasures\n",
    "using PythonPlot\n",
    "\n",
    "seed = 1\n",
    "_dir = @__DIR__;\n",
    "if ~Base.isdir(\"$(_dir)/../results/img\")\n",
    "    Base.mkdir(\"$(_dir)/../results/img\");\n",
    "end;"
   ],
   "metadata": {},
   "execution_count": null
  },
  {
   "cell_type": "markdown",
   "source": [
    "## ***1. Data preparation***\n",
    "Load data"
   ],
   "metadata": {}
  },
  {
   "outputs": [],
   "cell_type": "code",
   "source": [
    "df = CSV.read(\"$(_dir)/../data/patents.csv\", header=1, DataFrame);\n",
    "first(df, 3)"
   ],
   "metadata": {},
   "execution_count": null
  },
  {
   "cell_type": "markdown",
   "source": [
    "Preprocess date info."
   ],
   "metadata": {}
  },
  {
   "outputs": [],
   "cell_type": "code",
   "source": [
    "# convert Date to float\n",
    "df.date = ODEPoissonProcesses.float_times(string.(df.date), \"YYYYMMDD\")\n",
    "first(df, 3)"
   ],
   "metadata": {},
   "execution_count": null
  },
  {
   "cell_type": "markdown",
   "source": [
    "Prepear data as inpur for ODEPoissonProcesses"
   ],
   "metadata": {}
  },
  {
   "outputs": [],
   "cell_type": "code",
   "source": [
    "companies = sort(collect(Set(df.co)))\n",
    "classes = Dict(i => String(c) for (i, c) in enumerate(companies))\n",
    "times = Dict(i => Float64[t for (t, c) in zip(df.date, df.co) if c == co] for (i, co) in enumerate(companies));"
   ],
   "metadata": {},
   "execution_count": null
  },
  {
   "cell_type": "markdown",
   "source": [
    "### ***Plot data***"
   ],
   "metadata": {}
  },
  {
   "outputs": [],
   "cell_type": "code",
   "source": [
    "p1 = Plots.plot(\n",
    "    yticks=([1,2,3,4,5], companies),\n",
    "    yflip=true,\n",
    "    ylims=(0.5,5.5),\n",
    "    xlabel=\"Patent application date\",\n",
    ")\n",
    "for (i, co) in enumerate(companies)\n",
    "    n_pats = length(times[i])\n",
    "    scatter!(times[i], fill(i, n_pats), color=:black, m=:+)\n",
    "end\n",
    "\n",
    "p = Plots.plot(\n",
    "    p1,\n",
    "    size=(800,350),\n",
    "    bottommargin=12mm,\n",
    "    tickfontsize=16,\n",
    "    labelfontsize=18,\n",
    "    fontfamily=\"Times\",\n",
    "    legend=:none,\n",
    ")"
   ],
   "metadata": {},
   "execution_count": null
  },
  {
   "cell_type": "markdown",
   "source": [
    "Save figure"
   ],
   "metadata": {}
  },
  {
   "outputs": [],
   "cell_type": "code",
   "source": [
    "Plots.pdf(p, \"$(_dir)/../results/img/data_patents.pdf\")"
   ],
   "metadata": {},
   "execution_count": null
  },
  {
   "cell_type": "markdown",
   "source": [
    "## ***2. Define models***"
   ],
   "metadata": {}
  },
  {
   "outputs": [],
   "cell_type": "code",
   "source": [
    "U = 21  # number of inducing points\n",
    "T = 100  # number of observation points\n",
    "base_kernel = :RBF\n",
    "ϕ = [5.0, 0.15, 0.1]\n",
    "γ = 0.1\n",
    "\n",
    "# ODE guided Poisson process with LGCP-based Gradient Matching\n",
    "odepois = CompetitionPoissonProcess(\n",
    "    times, classes; U=U, T=T, γ=γ, from_to=(2011.0, maximum(df.date)),\n",
    "    base_kernel=base_kernel, ascale=ϕ[1], lscale=ϕ[2], δ=ϕ[3])"
   ],
   "metadata": {},
   "execution_count": null
  },
  {
   "cell_type": "markdown",
   "source": [
    "## ***3. Inference***\n",
    "MCMC iteration settings"
   ],
   "metadata": {}
  },
  {
   "outputs": [],
   "cell_type": "code",
   "source": [
    "n_burnin = 10000\n",
    "n_thinning = 20\n",
    "n_samples = 1000\n",
    "n_total_iter = n_burnin + n_thinning * n_samples;"
   ],
   "metadata": {},
   "execution_count": null
  },
  {
   "cell_type": "markdown",
   "source": [
    "Execute inference"
   ],
   "metadata": {}
  },
  {
   "outputs": [],
   "cell_type": "code",
   "source": [
    "Random.seed!(seed)\n",
    "chain_odepois = Chain(\n",
    "    odepois, n_burnin=n_burnin, n_thinning=n_thinning,\n",
    "    blocks=[HMCBlock(:y, L=5), HMCBlock(:x, L=5), HMCBlock(:θ, L=5)])\n",
    "chain_odepois = train!(odepois, n_total_iter, chain_odepois);"
   ],
   "metadata": {},
   "execution_count": null
  },
  {
   "cell_type": "markdown",
   "source": [
    "## ***4. Store results***"
   ],
   "metadata": {}
  },
  {
   "outputs": [],
   "cell_type": "code",
   "source": [
    "results =  Dict(\n",
    "    \"data\" => df,\n",
    "    \"odepois\" => (mod=odepois, chain=chain_odepois)\n",
    ");"
   ],
   "metadata": {},
   "execution_count": null
  },
  {
   "cell_type": "markdown",
   "source": [
    "## ***5. Save results***"
   ],
   "metadata": {}
  },
  {
   "outputs": [],
   "cell_type": "code",
   "source": [
    "_dir = @__DIR__\n",
    "if ~Base.isdir(\"$(_dir)/../results\")\n",
    "    Base.mkdir(\"$(_dir)/../results\")\n",
    "end\n",
    "open(\"$(_dir)/../results/exp-5.3.1-Patnets_seed$(seed).dat\", \"w\") do io\n",
    "    Serialization.serialize(io, results)\n",
    "end"
   ],
   "metadata": {},
   "execution_count": null
  },
  {
   "cell_type": "markdown",
   "source": [
    "## ***6. Plot results***\n",
    "Calculate posterior mean of A (competitive coefficient matrix)"
   ],
   "metadata": {}
  },
  {
   "outputs": [],
   "cell_type": "code",
   "source": [
    "mod, chain = results[\"odepois\"].mod, results[\"odepois\"].chain\n",
    "C = mod.data.C\n",
    "samples = ODEPoissonProcesses.get_posterior_θ_samples(mod, chain);\n",
    "A_posterior_mean = ODEPoissonProcesses.competitive_coef_matrix(mean(samples)[2*C+1:end], C);\n",
    "A_posterior_mean = float.(A_posterior_mean);"
   ],
   "metadata": {},
   "execution_count": null
  },
  {
   "cell_type": "markdown",
   "source": [
    "Draw a hetmap"
   ],
   "metadata": {}
  },
  {
   "outputs": [],
   "cell_type": "code",
   "source": [
    "fig = PythonPlot.figure(layout=\"tight\", figsize=(4.5,4.5))\n",
    "PythonPlot.imshow(A_posterior_mean, cmap=\"gray_r\")\n",
    "ticks = [0, 1, 2, 3, 4]\n",
    "PythonPlot.xticks(ticks, companies, font=\"Times\", fontsize=20, rotation=45)\n",
    "PythonPlot.yticks(ticks, companies, font=\"Times\", fontsize=20)\n",
    "fig.savefig(\"$(_dir)/../results/img/A_postmean_patents.pdf\", dpi=300)\n",
    "fig.show();"
   ],
   "metadata": {},
   "execution_count": null
  },
  {
   "cell_type": "markdown",
   "source": [
    "---\n",
    "\n",
    "*This notebook was generated using [Literate.jl](https://github.com/fredrikekre/Literate.jl).*"
   ],
   "metadata": {}
  }
 ],
 "nbformat_minor": 3,
 "metadata": {
  "language_info": {
   "file_extension": ".jl",
   "mimetype": "application/julia",
   "name": "julia",
   "version": "1.6.7"
  },
  "kernelspec": {
   "name": "julia-1.6",
   "display_name": "Julia 1.6.7",
   "language": "julia"
  }
 },
 "nbformat": 4
}
