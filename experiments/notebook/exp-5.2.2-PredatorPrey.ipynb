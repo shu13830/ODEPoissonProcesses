{
 "cells": [
  {
   "cell_type": "markdown",
   "metadata": {},
   "source": [
    "# ***ODE Parameter Estimation with Predator-Prey Model***\n",
    "---"
   ]
  },
  {
   "cell_type": "code",
   "execution_count": 1,
   "metadata": {},
   "outputs": [],
   "source": [
    "using LGCPGradientMatching\n",
    "using Plots\n",
    "using Random\n",
    "using Serialization"
   ]
  },
  {
   "cell_type": "markdown",
   "metadata": {},
   "source": [
    "## ***1. Simulate event data***"
   ]
  },
  {
   "cell_type": "code",
   "execution_count": 2,
   "metadata": {},
   "outputs": [
    {
     "data": {
      "image/svg+xml": [
       "<?xml version=\"1.0\" encoding=\"utf-8\"?>\n",
       "<svg xmlns=\"http://www.w3.org/2000/svg\" xmlns:xlink=\"http://www.w3.org/1999/xlink\" width=\"800\" height=\"200\" viewBox=\"0 0 3200 800\">\n",
       "<defs>\n",
       "  <clipPath id=\"clip400\">\n",
       "    <rect x=\"0\" y=\"0\" width=\"3200\" height=\"800\"/>\n",
       "  </clipPath>\n",
       "</defs>\n",
       "<path clip-path=\"url(#clip400)\" d=\"M0 800 L3200 800 L3200 0 L0 0  Z\" fill=\"#ffffff\" fill-rule=\"evenodd\" fill-opacity=\"1\"/>\n",
       "<defs>\n",
       "  <clipPath id=\"clip401\">\n",
       "    <rect x=\"640\" y=\"0\" width=\"2241\" height=\"800\"/>\n",
       "  </clipPath>\n",
       "</defs>\n",
       "<path clip-path=\"url(#clip400)\" d=\"M815.229 716.048 L3152.76 716.048 L3152.76 47.2441 L815.229 47.2441  Z\" fill=\"#ffffff\" fill-rule=\"evenodd\" fill-opacity=\"1\"/>\n",
       "<defs>\n",
       "  <clipPath id=\"clip402\">\n",
       "    <rect x=\"815\" y=\"47\" width=\"2339\" height=\"670\"/>\n",
       "  </clipPath>\n",
       "</defs>\n",
       "<polyline clip-path=\"url(#clip402)\" style=\"stroke:#000000; stroke-linecap:round; stroke-linejoin:round; stroke-width:2; stroke-opacity:0.1; fill:none\" points=\"874.75,716.048 874.75,47.2441 \"/>\n",
       "<polyline clip-path=\"url(#clip402)\" style=\"stroke:#000000; stroke-linecap:round; stroke-linejoin:round; stroke-width:2; stroke-opacity:0.1; fill:none\" points=\"1427.71,716.048 1427.71,47.2441 \"/>\n",
       "<polyline clip-path=\"url(#clip402)\" style=\"stroke:#000000; stroke-linecap:round; stroke-linejoin:round; stroke-width:2; stroke-opacity:0.1; fill:none\" points=\"1980.67,716.048 1980.67,47.2441 \"/>\n",
       "<polyline clip-path=\"url(#clip402)\" style=\"stroke:#000000; stroke-linecap:round; stroke-linejoin:round; stroke-width:2; stroke-opacity:0.1; fill:none\" points=\"2533.64,716.048 2533.64,47.2441 \"/>\n",
       "<polyline clip-path=\"url(#clip402)\" style=\"stroke:#000000; stroke-linecap:round; stroke-linejoin:round; stroke-width:2; stroke-opacity:0.1; fill:none\" points=\"3086.6,716.048 3086.6,47.2441 \"/>\n",
       "<polyline clip-path=\"url(#clip400)\" style=\"stroke:#000000; stroke-linecap:round; stroke-linejoin:round; stroke-width:4; stroke-opacity:1; fill:none\" points=\"815.229,716.048 3152.76,716.048 \"/>\n",
       "<polyline clip-path=\"url(#clip400)\" style=\"stroke:#000000; stroke-linecap:round; stroke-linejoin:round; stroke-width:4; stroke-opacity:1; fill:none\" points=\"874.75,716.048 874.75,697.15 \"/>\n",
       "<polyline clip-path=\"url(#clip400)\" style=\"stroke:#000000; stroke-linecap:round; stroke-linejoin:round; stroke-width:4; stroke-opacity:1; fill:none\" points=\"1427.71,716.048 1427.71,697.15 \"/>\n",
       "<polyline clip-path=\"url(#clip400)\" style=\"stroke:#000000; stroke-linecap:round; stroke-linejoin:round; stroke-width:4; stroke-opacity:1; fill:none\" points=\"1980.67,716.048 1980.67,697.15 \"/>\n",
       "<polyline clip-path=\"url(#clip400)\" style=\"stroke:#000000; stroke-linecap:round; stroke-linejoin:round; stroke-width:4; stroke-opacity:1; fill:none\" points=\"2533.64,716.048 2533.64,697.15 \"/>\n",
       "<polyline clip-path=\"url(#clip400)\" style=\"stroke:#000000; stroke-linecap:round; stroke-linejoin:round; stroke-width:4; stroke-opacity:1; fill:none\" points=\"3086.6,716.048 3086.6,697.15 \"/>\n",
       "<path clip-path=\"url(#clip400)\" d=\"M837.054 753.367 Q833.443 753.367 831.614 756.931 Q829.808 760.473 829.808 767.603 Q829.808 774.709 831.614 778.274 Q833.443 781.815 837.054 781.815 Q840.688 781.815 842.493 778.274 Q844.322 774.709 844.322 767.603 Q844.322 760.473 842.493 756.931 Q840.688 753.367 837.054 753.367 M837.054 749.663 Q842.864 749.663 845.919 754.269 Q848.998 758.853 848.998 767.603 Q848.998 776.329 845.919 780.936 Q842.864 785.519 837.054 785.519 Q831.243 785.519 828.165 780.936 Q825.109 776.329 825.109 767.603 Q825.109 758.853 828.165 754.269 Q831.243 749.663 837.054 749.663 Z\" fill=\"#000000\" fill-rule=\"nonzero\" fill-opacity=\"1\" /><path clip-path=\"url(#clip400)\" d=\"M857.216 778.968 L862.1 778.968 L862.1 784.848 L857.216 784.848 L857.216 778.968 Z\" fill=\"#000000\" fill-rule=\"nonzero\" fill-opacity=\"1\" /><path clip-path=\"url(#clip400)\" d=\"M882.285 753.367 Q878.674 753.367 876.845 756.931 Q875.04 760.473 875.04 767.603 Q875.04 774.709 876.845 778.274 Q878.674 781.815 882.285 781.815 Q885.919 781.815 887.725 778.274 Q889.553 774.709 889.553 767.603 Q889.553 760.473 887.725 756.931 Q885.919 753.367 882.285 753.367 M882.285 749.663 Q888.095 749.663 891.151 754.269 Q894.229 758.853 894.229 767.603 Q894.229 776.329 891.151 780.936 Q888.095 785.519 882.285 785.519 Q876.475 785.519 873.396 780.936 Q870.34 776.329 870.34 767.603 Q870.34 758.853 873.396 754.269 Q876.475 749.663 882.285 749.663 Z\" fill=\"#000000\" fill-rule=\"nonzero\" fill-opacity=\"1\" /><path clip-path=\"url(#clip400)\" d=\"M912.447 753.367 Q908.836 753.367 907.007 756.931 Q905.201 760.473 905.201 767.603 Q905.201 774.709 907.007 778.274 Q908.836 781.815 912.447 781.815 Q916.081 781.815 917.887 778.274 Q919.715 774.709 919.715 767.603 Q919.715 760.473 917.887 756.931 Q916.081 753.367 912.447 753.367 M912.447 749.663 Q918.257 749.663 921.312 754.269 Q924.391 758.853 924.391 767.603 Q924.391 776.329 921.312 780.936 Q918.257 785.519 912.447 785.519 Q906.637 785.519 903.558 780.936 Q900.502 776.329 900.502 767.603 Q900.502 758.853 903.558 754.269 Q906.637 749.663 912.447 749.663 Z\" fill=\"#000000\" fill-rule=\"nonzero\" fill-opacity=\"1\" /><path clip-path=\"url(#clip400)\" d=\"M1390.51 753.367 Q1386.9 753.367 1385.07 756.931 Q1383.27 760.473 1383.27 767.603 Q1383.27 774.709 1385.07 778.274 Q1386.9 781.815 1390.51 781.815 Q1394.15 781.815 1395.95 778.274 Q1397.78 774.709 1397.78 767.603 Q1397.78 760.473 1395.95 756.931 Q1394.15 753.367 1390.51 753.367 M1390.51 749.663 Q1396.32 749.663 1399.38 754.269 Q1402.46 758.853 1402.46 767.603 Q1402.46 776.329 1399.38 780.936 Q1396.32 785.519 1390.51 785.519 Q1384.7 785.519 1381.62 780.936 Q1378.57 776.329 1378.57 767.603 Q1378.57 758.853 1381.62 754.269 Q1384.7 749.663 1390.51 749.663 Z\" fill=\"#000000\" fill-rule=\"nonzero\" fill-opacity=\"1\" /><path clip-path=\"url(#clip400)\" d=\"M1410.68 778.968 L1415.56 778.968 L1415.56 784.848 L1410.68 784.848 L1410.68 778.968 Z\" fill=\"#000000\" fill-rule=\"nonzero\" fill-opacity=\"1\" /><path clip-path=\"url(#clip400)\" d=\"M1429.77 780.913 L1446.09 780.913 L1446.09 784.848 L1424.15 784.848 L1424.15 780.913 Q1426.81 778.158 1431.39 773.528 Q1436 768.876 1437.18 767.533 Q1439.43 765.01 1440.31 763.274 Q1441.21 761.515 1441.21 759.825 Q1441.21 757.07 1439.26 755.334 Q1437.34 753.598 1434.24 753.598 Q1432.04 753.598 1429.59 754.362 Q1427.16 755.126 1424.38 756.677 L1424.38 751.955 Q1427.2 750.82 1429.66 750.242 Q1432.11 749.663 1434.15 749.663 Q1439.52 749.663 1442.71 752.348 Q1445.91 755.033 1445.91 759.524 Q1445.91 761.654 1445.1 763.575 Q1444.31 765.473 1442.2 768.066 Q1441.62 768.737 1438.52 771.954 Q1435.42 775.149 1429.77 780.913 Z\" fill=\"#000000\" fill-rule=\"nonzero\" fill-opacity=\"1\" /><path clip-path=\"url(#clip400)\" d=\"M1455.95 750.288 L1474.31 750.288 L1474.31 754.223 L1460.24 754.223 L1460.24 762.695 Q1461.25 762.348 1462.27 762.186 Q1463.29 762.001 1464.31 762.001 Q1470.1 762.001 1473.48 765.172 Q1476.86 768.343 1476.86 773.76 Q1476.86 779.339 1473.38 782.44 Q1469.91 785.519 1463.59 785.519 Q1461.42 785.519 1459.15 785.149 Q1456.9 784.778 1454.49 784.038 L1454.49 779.339 Q1456.58 780.473 1458.8 781.028 Q1461.02 781.584 1463.5 781.584 Q1467.5 781.584 1469.84 779.478 Q1472.18 777.371 1472.18 773.76 Q1472.18 770.149 1469.84 768.042 Q1467.5 765.936 1463.5 765.936 Q1461.62 765.936 1459.75 766.353 Q1457.9 766.769 1455.95 767.649 L1455.95 750.288 Z\" fill=\"#000000\" fill-rule=\"nonzero\" fill-opacity=\"1\" /><path clip-path=\"url(#clip400)\" d=\"M1942.98 753.367 Q1939.37 753.367 1937.54 756.931 Q1935.73 760.473 1935.73 767.603 Q1935.73 774.709 1937.54 778.274 Q1939.37 781.815 1942.98 781.815 Q1946.61 781.815 1948.42 778.274 Q1950.25 774.709 1950.25 767.603 Q1950.25 760.473 1948.42 756.931 Q1946.61 753.367 1942.98 753.367 M1942.98 749.663 Q1948.79 749.663 1951.84 754.269 Q1954.92 758.853 1954.92 767.603 Q1954.92 776.329 1951.84 780.936 Q1948.79 785.519 1942.98 785.519 Q1937.17 785.519 1934.09 780.936 Q1931.03 776.329 1931.03 767.603 Q1931.03 758.853 1934.09 754.269 Q1937.17 749.663 1942.98 749.663 Z\" fill=\"#000000\" fill-rule=\"nonzero\" fill-opacity=\"1\" /><path clip-path=\"url(#clip400)\" d=\"M1963.14 778.968 L1968.02 778.968 L1968.02 784.848 L1963.14 784.848 L1963.14 778.968 Z\" fill=\"#000000\" fill-rule=\"nonzero\" fill-opacity=\"1\" /><path clip-path=\"url(#clip400)\" d=\"M1978.26 750.288 L1996.61 750.288 L1996.61 754.223 L1982.54 754.223 L1982.54 762.695 Q1983.56 762.348 1984.58 762.186 Q1985.59 762.001 1986.61 762.001 Q1992.4 762.001 1995.78 765.172 Q1999.16 768.343 1999.16 773.76 Q1999.16 779.339 1995.69 782.44 Q1992.21 785.519 1985.89 785.519 Q1983.72 785.519 1981.45 785.149 Q1979.2 784.778 1976.8 784.038 L1976.8 779.339 Q1978.88 780.473 1981.1 781.028 Q1983.33 781.584 1985.8 781.584 Q1989.81 781.584 1992.14 779.478 Q1994.48 777.371 1994.48 773.76 Q1994.48 770.149 1992.14 768.042 Q1989.81 765.936 1985.8 765.936 Q1983.93 765.936 1982.05 766.353 Q1980.2 766.769 1978.26 767.649 L1978.26 750.288 Z\" fill=\"#000000\" fill-rule=\"nonzero\" fill-opacity=\"1\" /><path clip-path=\"url(#clip400)\" d=\"M2018.37 753.367 Q2014.76 753.367 2012.93 756.931 Q2011.13 760.473 2011.13 767.603 Q2011.13 774.709 2012.93 778.274 Q2014.76 781.815 2018.37 781.815 Q2022.01 781.815 2023.81 778.274 Q2025.64 774.709 2025.64 767.603 Q2025.64 760.473 2023.81 756.931 Q2022.01 753.367 2018.37 753.367 M2018.37 749.663 Q2024.18 749.663 2027.24 754.269 Q2030.32 758.853 2030.32 767.603 Q2030.32 776.329 2027.24 780.936 Q2024.18 785.519 2018.37 785.519 Q2012.56 785.519 2009.48 780.936 Q2006.43 776.329 2006.43 767.603 Q2006.43 758.853 2009.48 754.269 Q2012.56 749.663 2018.37 749.663 Z\" fill=\"#000000\" fill-rule=\"nonzero\" fill-opacity=\"1\" /><path clip-path=\"url(#clip400)\" d=\"M2496.44 753.367 Q2492.83 753.367 2491 756.931 Q2489.19 760.473 2489.19 767.603 Q2489.19 774.709 2491 778.274 Q2492.83 781.815 2496.44 781.815 Q2500.07 781.815 2501.88 778.274 Q2503.71 774.709 2503.71 767.603 Q2503.71 760.473 2501.88 756.931 Q2500.07 753.367 2496.44 753.367 M2496.44 749.663 Q2502.25 749.663 2505.3 754.269 Q2508.38 758.853 2508.38 767.603 Q2508.38 776.329 2505.3 780.936 Q2502.25 785.519 2496.44 785.519 Q2490.63 785.519 2487.55 780.936 Q2484.49 776.329 2484.49 767.603 Q2484.49 758.853 2487.55 754.269 Q2490.63 749.663 2496.44 749.663 Z\" fill=\"#000000\" fill-rule=\"nonzero\" fill-opacity=\"1\" /><path clip-path=\"url(#clip400)\" d=\"M2516.6 778.968 L2521.48 778.968 L2521.48 784.848 L2516.6 784.848 L2516.6 778.968 Z\" fill=\"#000000\" fill-rule=\"nonzero\" fill-opacity=\"1\" /><path clip-path=\"url(#clip400)\" d=\"M2530.49 750.288 L2552.71 750.288 L2552.71 752.279 L2540.16 784.848 L2535.28 784.848 L2547.09 754.223 L2530.49 754.223 L2530.49 750.288 Z\" fill=\"#000000\" fill-rule=\"nonzero\" fill-opacity=\"1\" /><path clip-path=\"url(#clip400)\" d=\"M2561.88 750.288 L2580.23 750.288 L2580.23 754.223 L2566.16 754.223 L2566.16 762.695 Q2567.18 762.348 2568.2 762.186 Q2569.22 762.001 2570.23 762.001 Q2576.02 762.001 2579.4 765.172 Q2582.78 768.343 2582.78 773.76 Q2582.78 779.339 2579.31 782.44 Q2575.84 785.519 2569.52 785.519 Q2567.34 785.519 2565.07 785.149 Q2562.83 784.778 2560.42 784.038 L2560.42 779.339 Q2562.5 780.473 2564.72 781.028 Q2566.95 781.584 2569.42 781.584 Q2573.43 781.584 2575.77 779.478 Q2578.1 777.371 2578.1 773.76 Q2578.1 770.149 2575.77 768.042 Q2573.43 765.936 2569.42 765.936 Q2567.55 765.936 2565.67 766.353 Q2563.82 766.769 2561.88 767.649 L2561.88 750.288 Z\" fill=\"#000000\" fill-rule=\"nonzero\" fill-opacity=\"1\" /><path clip-path=\"url(#clip400)\" d=\"M3038.67 780.913 L3046.31 780.913 L3046.31 754.547 L3038 756.214 L3038 751.955 L3046.26 750.288 L3050.94 750.288 L3050.94 780.913 L3058.58 780.913 L3058.58 784.848 L3038.67 784.848 L3038.67 780.913 Z\" fill=\"#000000\" fill-rule=\"nonzero\" fill-opacity=\"1\" /><path clip-path=\"url(#clip400)\" d=\"M3068.02 778.968 L3072.91 778.968 L3072.91 784.848 L3068.02 784.848 L3068.02 778.968 Z\" fill=\"#000000\" fill-rule=\"nonzero\" fill-opacity=\"1\" /><path clip-path=\"url(#clip400)\" d=\"M3093.09 753.367 Q3089.48 753.367 3087.65 756.931 Q3085.85 760.473 3085.85 767.603 Q3085.85 774.709 3087.65 778.274 Q3089.48 781.815 3093.09 781.815 Q3096.73 781.815 3098.53 778.274 Q3100.36 774.709 3100.36 767.603 Q3100.36 760.473 3098.53 756.931 Q3096.73 753.367 3093.09 753.367 M3093.09 749.663 Q3098.9 749.663 3101.96 754.269 Q3105.04 758.853 3105.04 767.603 Q3105.04 776.329 3101.96 780.936 Q3098.9 785.519 3093.09 785.519 Q3087.28 785.519 3084.2 780.936 Q3081.15 776.329 3081.15 767.603 Q3081.15 758.853 3084.2 754.269 Q3087.28 749.663 3093.09 749.663 Z\" fill=\"#000000\" fill-rule=\"nonzero\" fill-opacity=\"1\" /><path clip-path=\"url(#clip400)\" d=\"M3123.25 753.367 Q3119.64 753.367 3117.81 756.931 Q3116.01 760.473 3116.01 767.603 Q3116.01 774.709 3117.81 778.274 Q3119.64 781.815 3123.25 781.815 Q3126.89 781.815 3128.69 778.274 Q3130.52 774.709 3130.52 767.603 Q3130.52 760.473 3128.69 756.931 Q3126.89 753.367 3123.25 753.367 M3123.25 749.663 Q3129.06 749.663 3132.12 754.269 Q3135.2 758.853 3135.2 767.603 Q3135.2 776.329 3132.12 780.936 Q3129.06 785.519 3123.25 785.519 Q3117.44 785.519 3114.37 780.936 Q3111.31 776.329 3111.31 767.603 Q3111.31 758.853 3114.37 754.269 Q3117.44 749.663 3123.25 749.663 Z\" fill=\"#000000\" fill-rule=\"nonzero\" fill-opacity=\"1\" /><polyline clip-path=\"url(#clip402)\" style=\"stroke:#000000; stroke-linecap:round; stroke-linejoin:round; stroke-width:2; stroke-opacity:0.1; fill:none\" points=\"815.229,716.048 3152.76,716.048 \"/>\n",
       "<polyline clip-path=\"url(#clip402)\" style=\"stroke:#000000; stroke-linecap:round; stroke-linejoin:round; stroke-width:2; stroke-opacity:0.1; fill:none\" points=\"815.229,493.113 3152.76,493.113 \"/>\n",
       "<polyline clip-path=\"url(#clip402)\" style=\"stroke:#000000; stroke-linecap:round; stroke-linejoin:round; stroke-width:2; stroke-opacity:0.1; fill:none\" points=\"815.229,270.179 3152.76,270.179 \"/>\n",
       "<polyline clip-path=\"url(#clip402)\" style=\"stroke:#000000; stroke-linecap:round; stroke-linejoin:round; stroke-width:2; stroke-opacity:0.1; fill:none\" points=\"815.229,47.2441 3152.76,47.2441 \"/>\n",
       "<polyline clip-path=\"url(#clip400)\" style=\"stroke:#000000; stroke-linecap:round; stroke-linejoin:round; stroke-width:4; stroke-opacity:1; fill:none\" points=\"815.229,716.048 815.229,47.2441 \"/>\n",
       "<polyline clip-path=\"url(#clip400)\" style=\"stroke:#000000; stroke-linecap:round; stroke-linejoin:round; stroke-width:4; stroke-opacity:1; fill:none\" points=\"815.229,716.048 829.967,716.048 \"/>\n",
       "<polyline clip-path=\"url(#clip400)\" style=\"stroke:#000000; stroke-linecap:round; stroke-linejoin:round; stroke-width:4; stroke-opacity:1; fill:none\" points=\"815.229,493.113 829.967,493.113 \"/>\n",
       "<polyline clip-path=\"url(#clip400)\" style=\"stroke:#000000; stroke-linecap:round; stroke-linejoin:round; stroke-width:4; stroke-opacity:1; fill:none\" points=\"815.229,270.179 829.967,270.179 \"/>\n",
       "<polyline clip-path=\"url(#clip400)\" style=\"stroke:#000000; stroke-linecap:round; stroke-linejoin:round; stroke-width:4; stroke-opacity:1; fill:none\" points=\"815.229,47.2441 829.967,47.2441 \"/>\n",
       "<path clip-path=\"url(#clip400)\" d=\"M706.744 716.499 L736.419 716.499 L736.419 720.434 L706.744 720.434 L706.744 716.499 Z\" fill=\"#000000\" fill-rule=\"nonzero\" fill-opacity=\"1\" /><path clip-path=\"url(#clip400)\" d=\"M747.322 729.393 L754.961 729.393 L754.961 703.027 L746.651 704.694 L746.651 700.435 L754.915 698.768 L759.59 698.768 L759.59 729.393 L767.229 729.393 L767.229 733.328 L747.322 733.328 L747.322 729.393 Z\" fill=\"#000000\" fill-rule=\"nonzero\" fill-opacity=\"1\" /><path clip-path=\"url(#clip400)\" d=\"M755.285 478.912 Q751.674 478.912 749.845 482.477 Q748.04 486.018 748.04 493.148 Q748.04 500.254 749.845 503.819 Q751.674 507.361 755.285 507.361 Q758.919 507.361 760.725 503.819 Q762.553 500.254 762.553 493.148 Q762.553 486.018 760.725 482.477 Q758.919 478.912 755.285 478.912 M755.285 475.208 Q761.095 475.208 764.151 479.815 Q767.229 484.398 767.229 493.148 Q767.229 501.875 764.151 506.481 Q761.095 511.065 755.285 511.065 Q749.475 511.065 746.396 506.481 Q743.341 501.875 743.341 493.148 Q743.341 484.398 746.396 479.815 Q749.475 475.208 755.285 475.208 Z\" fill=\"#000000\" fill-rule=\"nonzero\" fill-opacity=\"1\" /><path clip-path=\"url(#clip400)\" d=\"M747.322 283.524 L754.961 283.524 L754.961 257.158 L746.651 258.825 L746.651 254.565 L754.915 252.899 L759.59 252.899 L759.59 283.524 L767.229 283.524 L767.229 287.459 L747.322 287.459 L747.322 283.524 Z\" fill=\"#000000\" fill-rule=\"nonzero\" fill-opacity=\"1\" /><path clip-path=\"url(#clip400)\" d=\"M750.91 60.5889 L767.229 60.5889 L767.229 64.5241 L745.285 64.5241 L745.285 60.5889 Q747.947 57.8343 752.53 53.2047 Q757.137 48.552 758.317 47.2094 Q760.563 44.6862 761.442 42.9501 Q762.345 41.1909 762.345 39.5011 Q762.345 36.7465 760.401 35.0104 Q758.479 33.2743 755.378 33.2743 Q753.178 33.2743 750.725 34.0381 Q748.294 34.802 745.516 36.3529 L745.516 31.6308 Q748.341 30.4965 750.794 29.9178 Q753.248 29.3391 755.285 29.3391 Q760.655 29.3391 763.85 32.0243 Q767.044 34.7094 767.044 39.2002 Q767.044 41.3298 766.234 43.2511 Q765.447 45.1492 763.34 47.7418 Q762.762 48.4131 759.66 51.6306 Q756.558 54.8251 750.91 60.5889 Z\" fill=\"#000000\" fill-rule=\"nonzero\" fill-opacity=\"1\" /><line clip-path=\"url(#clip402)\" x1=\"881.386\" y1=\"286.179\" x2=\"881.386\" y2=\"254.179\" style=\"stroke:#009af9; stroke-width:1.6; stroke-opacity:1\"/>\n",
       "<line clip-path=\"url(#clip402)\" x1=\"912.352\" y1=\"286.179\" x2=\"912.352\" y2=\"254.179\" style=\"stroke:#009af9; stroke-width:1.6; stroke-opacity:1\"/>\n",
       "<line clip-path=\"url(#clip402)\" x1=\"989.766\" y1=\"286.179\" x2=\"989.766\" y2=\"254.179\" style=\"stroke:#009af9; stroke-width:1.6; stroke-opacity:1\"/>\n",
       "<line clip-path=\"url(#clip402)\" x1=\"1106.99\" y1=\"286.179\" x2=\"1106.99\" y2=\"254.179\" style=\"stroke:#009af9; stroke-width:1.6; stroke-opacity:1\"/>\n",
       "<line clip-path=\"url(#clip402)\" x1=\"1175.56\" y1=\"286.179\" x2=\"1175.56\" y2=\"254.179\" style=\"stroke:#009af9; stroke-width:1.6; stroke-opacity:1\"/>\n",
       "<line clip-path=\"url(#clip402)\" x1=\"1210.95\" y1=\"286.179\" x2=\"1210.95\" y2=\"254.179\" style=\"stroke:#009af9; stroke-width:1.6; stroke-opacity:1\"/>\n",
       "<line clip-path=\"url(#clip402)\" x1=\"1219.8\" y1=\"286.179\" x2=\"1219.8\" y2=\"254.179\" style=\"stroke:#009af9; stroke-width:1.6; stroke-opacity:1\"/>\n",
       "<line clip-path=\"url(#clip402)\" x1=\"1224.22\" y1=\"286.179\" x2=\"1224.22\" y2=\"254.179\" style=\"stroke:#009af9; stroke-width:1.6; stroke-opacity:1\"/>\n",
       "<line clip-path=\"url(#clip402)\" x1=\"1230.86\" y1=\"286.179\" x2=\"1230.86\" y2=\"254.179\" style=\"stroke:#009af9; stroke-width:1.6; stroke-opacity:1\"/>\n",
       "<line clip-path=\"url(#clip402)\" x1=\"1255.19\" y1=\"286.179\" x2=\"1255.19\" y2=\"254.179\" style=\"stroke:#009af9; stroke-width:1.6; stroke-opacity:1\"/>\n",
       "<line clip-path=\"url(#clip402)\" x1=\"1299.43\" y1=\"286.179\" x2=\"1299.43\" y2=\"254.179\" style=\"stroke:#009af9; stroke-width:1.6; stroke-opacity:1\"/>\n",
       "<line clip-path=\"url(#clip402)\" x1=\"1374.63\" y1=\"286.179\" x2=\"1374.63\" y2=\"254.179\" style=\"stroke:#009af9; stroke-width:1.6; stroke-opacity:1\"/>\n",
       "<line clip-path=\"url(#clip402)\" x1=\"1379.05\" y1=\"286.179\" x2=\"1379.05\" y2=\"254.179\" style=\"stroke:#009af9; stroke-width:1.6; stroke-opacity:1\"/>\n",
       "<line clip-path=\"url(#clip402)\" x1=\"1383.48\" y1=\"286.179\" x2=\"1383.48\" y2=\"254.179\" style=\"stroke:#009af9; stroke-width:1.6; stroke-opacity:1\"/>\n",
       "<line clip-path=\"url(#clip402)\" x1=\"1383.48\" y1=\"286.179\" x2=\"1383.48\" y2=\"254.179\" style=\"stroke:#009af9; stroke-width:1.6; stroke-opacity:1\"/>\n",
       "<line clip-path=\"url(#clip402)\" x1=\"1390.11\" y1=\"286.179\" x2=\"1390.11\" y2=\"254.179\" style=\"stroke:#009af9; stroke-width:1.6; stroke-opacity:1\"/>\n",
       "<line clip-path=\"url(#clip402)\" x1=\"1390.11\" y1=\"286.179\" x2=\"1390.11\" y2=\"254.179\" style=\"stroke:#009af9; stroke-width:1.6; stroke-opacity:1\"/>\n",
       "<line clip-path=\"url(#clip402)\" x1=\"1394.53\" y1=\"286.179\" x2=\"1394.53\" y2=\"254.179\" style=\"stroke:#009af9; stroke-width:1.6; stroke-opacity:1\"/>\n",
       "<line clip-path=\"url(#clip402)\" x1=\"1396.75\" y1=\"286.179\" x2=\"1396.75\" y2=\"254.179\" style=\"stroke:#009af9; stroke-width:1.6; stroke-opacity:1\"/>\n",
       "<line clip-path=\"url(#clip402)\" x1=\"1414.44\" y1=\"286.179\" x2=\"1414.44\" y2=\"254.179\" style=\"stroke:#009af9; stroke-width:1.6; stroke-opacity:1\"/>\n",
       "<line clip-path=\"url(#clip402)\" x1=\"1432.14\" y1=\"286.179\" x2=\"1432.14\" y2=\"254.179\" style=\"stroke:#009af9; stroke-width:1.6; stroke-opacity:1\"/>\n",
       "<line clip-path=\"url(#clip402)\" x1=\"1432.14\" y1=\"286.179\" x2=\"1432.14\" y2=\"254.179\" style=\"stroke:#009af9; stroke-width:1.6; stroke-opacity:1\"/>\n",
       "<line clip-path=\"url(#clip402)\" x1=\"1460.89\" y1=\"286.179\" x2=\"1460.89\" y2=\"254.179\" style=\"stroke:#009af9; stroke-width:1.6; stroke-opacity:1\"/>\n",
       "<line clip-path=\"url(#clip402)\" x1=\"1551.58\" y1=\"286.179\" x2=\"1551.58\" y2=\"254.179\" style=\"stroke:#009af9; stroke-width:1.6; stroke-opacity:1\"/>\n",
       "<line clip-path=\"url(#clip402)\" x1=\"1598.02\" y1=\"286.179\" x2=\"1598.02\" y2=\"254.179\" style=\"stroke:#009af9; stroke-width:1.6; stroke-opacity:1\"/>\n",
       "<line clip-path=\"url(#clip402)\" x1=\"1615.72\" y1=\"286.179\" x2=\"1615.72\" y2=\"254.179\" style=\"stroke:#009af9; stroke-width:1.6; stroke-opacity:1\"/>\n",
       "<line clip-path=\"url(#clip402)\" x1=\"1677.65\" y1=\"286.179\" x2=\"1677.65\" y2=\"254.179\" style=\"stroke:#009af9; stroke-width:1.6; stroke-opacity:1\"/>\n",
       "<line clip-path=\"url(#clip402)\" x1=\"1779.4\" y1=\"286.179\" x2=\"1779.4\" y2=\"254.179\" style=\"stroke:#009af9; stroke-width:1.6; stroke-opacity:1\"/>\n",
       "<line clip-path=\"url(#clip402)\" x1=\"1861.23\" y1=\"286.179\" x2=\"1861.23\" y2=\"254.179\" style=\"stroke:#009af9; stroke-width:1.6; stroke-opacity:1\"/>\n",
       "<line clip-path=\"url(#clip402)\" x1=\"1867.87\" y1=\"286.179\" x2=\"1867.87\" y2=\"254.179\" style=\"stroke:#009af9; stroke-width:1.6; stroke-opacity:1\"/>\n",
       "<line clip-path=\"url(#clip402)\" x1=\"1965.19\" y1=\"286.179\" x2=\"1965.19\" y2=\"254.179\" style=\"stroke:#009af9; stroke-width:1.6; stroke-opacity:1\"/>\n",
       "<line clip-path=\"url(#clip402)\" x1=\"2035.97\" y1=\"286.179\" x2=\"2035.97\" y2=\"254.179\" style=\"stroke:#009af9; stroke-width:1.6; stroke-opacity:1\"/>\n",
       "<line clip-path=\"url(#clip402)\" x1=\"2055.88\" y1=\"286.179\" x2=\"2055.88\" y2=\"254.179\" style=\"stroke:#009af9; stroke-width:1.6; stroke-opacity:1\"/>\n",
       "<line clip-path=\"url(#clip402)\" x1=\"2069.15\" y1=\"286.179\" x2=\"2069.15\" y2=\"254.179\" style=\"stroke:#009af9; stroke-width:1.6; stroke-opacity:1\"/>\n",
       "<line clip-path=\"url(#clip402)\" x1=\"2069.15\" y1=\"286.179\" x2=\"2069.15\" y2=\"254.179\" style=\"stroke:#009af9; stroke-width:1.6; stroke-opacity:1\"/>\n",
       "<line clip-path=\"url(#clip402)\" x1=\"2100.11\" y1=\"286.179\" x2=\"2100.11\" y2=\"254.179\" style=\"stroke:#009af9; stroke-width:1.6; stroke-opacity:1\"/>\n",
       "<line clip-path=\"url(#clip402)\" x1=\"2113.39\" y1=\"286.179\" x2=\"2113.39\" y2=\"254.179\" style=\"stroke:#009af9; stroke-width:1.6; stroke-opacity:1\"/>\n",
       "<line clip-path=\"url(#clip402)\" x1=\"2133.29\" y1=\"286.179\" x2=\"2133.29\" y2=\"254.179\" style=\"stroke:#009af9; stroke-width:1.6; stroke-opacity:1\"/>\n",
       "<line clip-path=\"url(#clip402)\" x1=\"2135.5\" y1=\"286.179\" x2=\"2135.5\" y2=\"254.179\" style=\"stroke:#009af9; stroke-width:1.6; stroke-opacity:1\"/>\n",
       "<line clip-path=\"url(#clip402)\" x1=\"2139.93\" y1=\"286.179\" x2=\"2139.93\" y2=\"254.179\" style=\"stroke:#009af9; stroke-width:1.6; stroke-opacity:1\"/>\n",
       "<line clip-path=\"url(#clip402)\" x1=\"2142.14\" y1=\"286.179\" x2=\"2142.14\" y2=\"254.179\" style=\"stroke:#009af9; stroke-width:1.6; stroke-opacity:1\"/>\n",
       "<line clip-path=\"url(#clip402)\" x1=\"2150.99\" y1=\"286.179\" x2=\"2150.99\" y2=\"254.179\" style=\"stroke:#009af9; stroke-width:1.6; stroke-opacity:1\"/>\n",
       "<line clip-path=\"url(#clip402)\" x1=\"2159.83\" y1=\"286.179\" x2=\"2159.83\" y2=\"254.179\" style=\"stroke:#009af9; stroke-width:1.6; stroke-opacity:1\"/>\n",
       "<line clip-path=\"url(#clip402)\" x1=\"2177.53\" y1=\"286.179\" x2=\"2177.53\" y2=\"254.179\" style=\"stroke:#009af9; stroke-width:1.6; stroke-opacity:1\"/>\n",
       "<line clip-path=\"url(#clip402)\" x1=\"2193.01\" y1=\"286.179\" x2=\"2193.01\" y2=\"254.179\" style=\"stroke:#009af9; stroke-width:1.6; stroke-opacity:1\"/>\n",
       "<line clip-path=\"url(#clip402)\" x1=\"2228.4\" y1=\"286.179\" x2=\"2228.4\" y2=\"254.179\" style=\"stroke:#009af9; stroke-width:1.6; stroke-opacity:1\"/>\n",
       "<line clip-path=\"url(#clip402)\" x1=\"2239.46\" y1=\"286.179\" x2=\"2239.46\" y2=\"254.179\" style=\"stroke:#009af9; stroke-width:1.6; stroke-opacity:1\"/>\n",
       "<line clip-path=\"url(#clip402)\" x1=\"2257.16\" y1=\"286.179\" x2=\"2257.16\" y2=\"254.179\" style=\"stroke:#009af9; stroke-width:1.6; stroke-opacity:1\"/>\n",
       "<line clip-path=\"url(#clip402)\" x1=\"2263.79\" y1=\"286.179\" x2=\"2263.79\" y2=\"254.179\" style=\"stroke:#009af9; stroke-width:1.6; stroke-opacity:1\"/>\n",
       "<line clip-path=\"url(#clip402)\" x1=\"2268.22\" y1=\"286.179\" x2=\"2268.22\" y2=\"254.179\" style=\"stroke:#009af9; stroke-width:1.6; stroke-opacity:1\"/>\n",
       "<line clip-path=\"url(#clip402)\" x1=\"2279.27\" y1=\"286.179\" x2=\"2279.27\" y2=\"254.179\" style=\"stroke:#009af9; stroke-width:1.6; stroke-opacity:1\"/>\n",
       "<line clip-path=\"url(#clip402)\" x1=\"2296.97\" y1=\"286.179\" x2=\"2296.97\" y2=\"254.179\" style=\"stroke:#009af9; stroke-width:1.6; stroke-opacity:1\"/>\n",
       "<line clip-path=\"url(#clip402)\" x1=\"2312.45\" y1=\"286.179\" x2=\"2312.45\" y2=\"254.179\" style=\"stroke:#009af9; stroke-width:1.6; stroke-opacity:1\"/>\n",
       "<line clip-path=\"url(#clip402)\" x1=\"2670.77\" y1=\"286.179\" x2=\"2670.77\" y2=\"254.179\" style=\"stroke:#009af9; stroke-width:1.6; stroke-opacity:1\"/>\n",
       "<line clip-path=\"url(#clip402)\" x1=\"2757.03\" y1=\"286.179\" x2=\"2757.03\" y2=\"254.179\" style=\"stroke:#009af9; stroke-width:1.6; stroke-opacity:1\"/>\n",
       "<line clip-path=\"url(#clip402)\" x1=\"2763.67\" y1=\"286.179\" x2=\"2763.67\" y2=\"254.179\" style=\"stroke:#009af9; stroke-width:1.6; stroke-opacity:1\"/>\n",
       "<line clip-path=\"url(#clip402)\" x1=\"2788\" y1=\"286.179\" x2=\"2788\" y2=\"254.179\" style=\"stroke:#009af9; stroke-width:1.6; stroke-opacity:1\"/>\n",
       "<line clip-path=\"url(#clip402)\" x1=\"2790.21\" y1=\"286.179\" x2=\"2790.21\" y2=\"254.179\" style=\"stroke:#009af9; stroke-width:1.6; stroke-opacity:1\"/>\n",
       "<line clip-path=\"url(#clip402)\" x1=\"2896.38\" y1=\"286.179\" x2=\"2896.38\" y2=\"254.179\" style=\"stroke:#009af9; stroke-width:1.6; stroke-opacity:1\"/>\n",
       "<line clip-path=\"url(#clip402)\" x1=\"2896.38\" y1=\"286.179\" x2=\"2896.38\" y2=\"254.179\" style=\"stroke:#009af9; stroke-width:1.6; stroke-opacity:1\"/>\n",
       "<line clip-path=\"url(#clip402)\" x1=\"2942.83\" y1=\"286.179\" x2=\"2942.83\" y2=\"254.179\" style=\"stroke:#009af9; stroke-width:1.6; stroke-opacity:1\"/>\n",
       "<line clip-path=\"url(#clip402)\" x1=\"2969.37\" y1=\"286.179\" x2=\"2969.37\" y2=\"254.179\" style=\"stroke:#009af9; stroke-width:1.6; stroke-opacity:1\"/>\n",
       "<line clip-path=\"url(#clip402)\" x1=\"2998.13\" y1=\"286.179\" x2=\"2998.13\" y2=\"254.179\" style=\"stroke:#009af9; stroke-width:1.6; stroke-opacity:1\"/>\n",
       "<line clip-path=\"url(#clip402)\" x1=\"3020.24\" y1=\"286.179\" x2=\"3020.24\" y2=\"254.179\" style=\"stroke:#009af9; stroke-width:1.6; stroke-opacity:1\"/>\n",
       "<line clip-path=\"url(#clip402)\" x1=\"3029.09\" y1=\"286.179\" x2=\"3029.09\" y2=\"254.179\" style=\"stroke:#009af9; stroke-width:1.6; stroke-opacity:1\"/>\n",
       "<line clip-path=\"url(#clip402)\" x1=\"3044.57\" y1=\"286.179\" x2=\"3044.57\" y2=\"254.179\" style=\"stroke:#009af9; stroke-width:1.6; stroke-opacity:1\"/>\n",
       "<line clip-path=\"url(#clip402)\" x1=\"3077.75\" y1=\"286.179\" x2=\"3077.75\" y2=\"254.179\" style=\"stroke:#009af9; stroke-width:1.6; stroke-opacity:1\"/>\n",
       "<line clip-path=\"url(#clip402)\" x1=\"3086.6\" y1=\"286.179\" x2=\"3086.6\" y2=\"254.179\" style=\"stroke:#009af9; stroke-width:1.6; stroke-opacity:1\"/>\n",
       "<line clip-path=\"url(#clip402)\" x1=\"1250.76\" y1=\"509.113\" x2=\"1250.76\" y2=\"477.113\" style=\"stroke:#e26f46; stroke-width:1.6; stroke-opacity:1\"/>\n",
       "<line clip-path=\"url(#clip402)\" x1=\"1272.88\" y1=\"509.113\" x2=\"1272.88\" y2=\"477.113\" style=\"stroke:#e26f46; stroke-width:1.6; stroke-opacity:1\"/>\n",
       "<line clip-path=\"url(#clip402)\" x1=\"1354.72\" y1=\"509.113\" x2=\"1354.72\" y2=\"477.113\" style=\"stroke:#e26f46; stroke-width:1.6; stroke-opacity:1\"/>\n",
       "<line clip-path=\"url(#clip402)\" x1=\"1396.75\" y1=\"509.113\" x2=\"1396.75\" y2=\"477.113\" style=\"stroke:#e26f46; stroke-width:1.6; stroke-opacity:1\"/>\n",
       "<line clip-path=\"url(#clip402)\" x1=\"1414.44\" y1=\"509.113\" x2=\"1414.44\" y2=\"477.113\" style=\"stroke:#e26f46; stroke-width:1.6; stroke-opacity:1\"/>\n",
       "<line clip-path=\"url(#clip402)\" x1=\"1427.71\" y1=\"509.113\" x2=\"1427.71\" y2=\"477.113\" style=\"stroke:#e26f46; stroke-width:1.6; stroke-opacity:1\"/>\n",
       "<line clip-path=\"url(#clip402)\" x1=\"1452.04\" y1=\"509.113\" x2=\"1452.04\" y2=\"477.113\" style=\"stroke:#e26f46; stroke-width:1.6; stroke-opacity:1\"/>\n",
       "<line clip-path=\"url(#clip402)\" x1=\"1469.74\" y1=\"509.113\" x2=\"1469.74\" y2=\"477.113\" style=\"stroke:#e26f46; stroke-width:1.6; stroke-opacity:1\"/>\n",
       "<line clip-path=\"url(#clip402)\" x1=\"1474.16\" y1=\"509.113\" x2=\"1474.16\" y2=\"477.113\" style=\"stroke:#e26f46; stroke-width:1.6; stroke-opacity:1\"/>\n",
       "<line clip-path=\"url(#clip402)\" x1=\"1496.28\" y1=\"509.113\" x2=\"1496.28\" y2=\"477.113\" style=\"stroke:#e26f46; stroke-width:1.6; stroke-opacity:1\"/>\n",
       "<line clip-path=\"url(#clip402)\" x1=\"1544.94\" y1=\"509.113\" x2=\"1544.94\" y2=\"477.113\" style=\"stroke:#e26f46; stroke-width:1.6; stroke-opacity:1\"/>\n",
       "<line clip-path=\"url(#clip402)\" x1=\"1547.15\" y1=\"509.113\" x2=\"1547.15\" y2=\"477.113\" style=\"stroke:#e26f46; stroke-width:1.6; stroke-opacity:1\"/>\n",
       "<line clip-path=\"url(#clip402)\" x1=\"1569.27\" y1=\"509.113\" x2=\"1569.27\" y2=\"477.113\" style=\"stroke:#e26f46; stroke-width:1.6; stroke-opacity:1\"/>\n",
       "<line clip-path=\"url(#clip402)\" x1=\"1613.51\" y1=\"509.113\" x2=\"1613.51\" y2=\"477.113\" style=\"stroke:#e26f46; stroke-width:1.6; stroke-opacity:1\"/>\n",
       "<line clip-path=\"url(#clip402)\" x1=\"1732.95\" y1=\"509.113\" x2=\"1732.95\" y2=\"477.113\" style=\"stroke:#e26f46; stroke-width:1.6; stroke-opacity:1\"/>\n",
       "<line clip-path=\"url(#clip402)\" x1=\"1859.02\" y1=\"509.113\" x2=\"1859.02\" y2=\"477.113\" style=\"stroke:#e26f46; stroke-width:1.6; stroke-opacity:1\"/>\n",
       "<line clip-path=\"url(#clip402)\" x1=\"1951.92\" y1=\"509.113\" x2=\"1951.92\" y2=\"477.113\" style=\"stroke:#e26f46; stroke-width:1.6; stroke-opacity:1\"/>\n",
       "<line clip-path=\"url(#clip402)\" x1=\"2086.84\" y1=\"509.113\" x2=\"2086.84\" y2=\"477.113\" style=\"stroke:#e26f46; stroke-width:1.6; stroke-opacity:1\"/>\n",
       "<line clip-path=\"url(#clip402)\" x1=\"2270.43\" y1=\"509.113\" x2=\"2270.43\" y2=\"477.113\" style=\"stroke:#e26f46; stroke-width:1.6; stroke-opacity:1\"/>\n",
       "<line clip-path=\"url(#clip402)\" x1=\"2312.45\" y1=\"509.113\" x2=\"2312.45\" y2=\"477.113\" style=\"stroke:#e26f46; stroke-width:1.6; stroke-opacity:1\"/>\n",
       "<line clip-path=\"url(#clip402)\" x1=\"2341.21\" y1=\"509.113\" x2=\"2341.21\" y2=\"477.113\" style=\"stroke:#e26f46; stroke-width:1.6; stroke-opacity:1\"/>\n",
       "<line clip-path=\"url(#clip402)\" x1=\"2369.96\" y1=\"509.113\" x2=\"2369.96\" y2=\"477.113\" style=\"stroke:#e26f46; stroke-width:1.6; stroke-opacity:1\"/>\n",
       "<line clip-path=\"url(#clip402)\" x1=\"2372.17\" y1=\"509.113\" x2=\"2372.17\" y2=\"477.113\" style=\"stroke:#e26f46; stroke-width:1.6; stroke-opacity:1\"/>\n",
       "<line clip-path=\"url(#clip402)\" x1=\"2396.5\" y1=\"509.113\" x2=\"2396.5\" y2=\"477.113\" style=\"stroke:#e26f46; stroke-width:1.6; stroke-opacity:1\"/>\n",
       "<line clip-path=\"url(#clip402)\" x1=\"2436.32\" y1=\"509.113\" x2=\"2436.32\" y2=\"477.113\" style=\"stroke:#e26f46; stroke-width:1.6; stroke-opacity:1\"/>\n",
       "<line clip-path=\"url(#clip402)\" x1=\"2438.53\" y1=\"509.113\" x2=\"2438.53\" y2=\"477.113\" style=\"stroke:#e26f46; stroke-width:1.6; stroke-opacity:1\"/>\n",
       "<line clip-path=\"url(#clip402)\" x1=\"2451.8\" y1=\"509.113\" x2=\"2451.8\" y2=\"477.113\" style=\"stroke:#e26f46; stroke-width:1.6; stroke-opacity:1\"/>\n",
       "<line clip-path=\"url(#clip402)\" x1=\"2478.34\" y1=\"509.113\" x2=\"2478.34\" y2=\"477.113\" style=\"stroke:#e26f46; stroke-width:1.6; stroke-opacity:1\"/>\n",
       "<line clip-path=\"url(#clip402)\" x1=\"2518.15\" y1=\"509.113\" x2=\"2518.15\" y2=\"477.113\" style=\"stroke:#e26f46; stroke-width:1.6; stroke-opacity:1\"/>\n",
       "<line clip-path=\"url(#clip402)\" x1=\"2542.48\" y1=\"509.113\" x2=\"2542.48\" y2=\"477.113\" style=\"stroke:#e26f46; stroke-width:1.6; stroke-opacity:1\"/>\n",
       "<line clip-path=\"url(#clip402)\" x1=\"2613.26\" y1=\"509.113\" x2=\"2613.26\" y2=\"477.113\" style=\"stroke:#e26f46; stroke-width:1.6; stroke-opacity:1\"/>\n",
       "<line clip-path=\"url(#clip402)\" x1=\"2619.9\" y1=\"509.113\" x2=\"2619.9\" y2=\"477.113\" style=\"stroke:#e26f46; stroke-width:1.6; stroke-opacity:1\"/>\n",
       "<line clip-path=\"url(#clip402)\" x1=\"2745.97\" y1=\"509.113\" x2=\"2745.97\" y2=\"477.113\" style=\"stroke:#e26f46; stroke-width:1.6; stroke-opacity:1\"/>\n",
       "<line clip-path=\"url(#clip402)\" x1=\"2745.97\" y1=\"509.113\" x2=\"2745.97\" y2=\"477.113\" style=\"stroke:#e26f46; stroke-width:1.6; stroke-opacity:1\"/>\n",
       "<line clip-path=\"url(#clip402)\" x1=\"2799.06\" y1=\"509.113\" x2=\"2799.06\" y2=\"477.113\" style=\"stroke:#e26f46; stroke-width:1.6; stroke-opacity:1\"/>\n",
       "<line clip-path=\"url(#clip402)\" x1=\"2903.02\" y1=\"509.113\" x2=\"2903.02\" y2=\"477.113\" style=\"stroke:#e26f46; stroke-width:1.6; stroke-opacity:1\"/>\n",
       "<line clip-path=\"url(#clip402)\" x1=\"3044.57\" y1=\"509.113\" x2=\"3044.57\" y2=\"477.113\" style=\"stroke:#e26f46; stroke-width:1.6; stroke-opacity:1\"/>\n",
       "<line clip-path=\"url(#clip402)\" x1=\"3057.85\" y1=\"509.113\" x2=\"3057.85\" y2=\"477.113\" style=\"stroke:#e26f46; stroke-width:1.6; stroke-opacity:1\"/>\n",
       "<line clip-path=\"url(#clip402)\" x1=\"3084.39\" y1=\"509.113\" x2=\"3084.39\" y2=\"477.113\" style=\"stroke:#e26f46; stroke-width:1.6; stroke-opacity:1\"/>\n",
       "<path clip-path=\"url(#clip400)\" d=\"M155.478 455.779 L654.834 455.779 L654.834 300.259 L155.478 300.259  Z\" fill=\"#ffffff\" fill-rule=\"evenodd\" fill-opacity=\"1\"/>\n",
       "<polyline clip-path=\"url(#clip400)\" style=\"stroke:#000000; stroke-linecap:round; stroke-linejoin:round; stroke-width:4; stroke-opacity:1; fill:none\" points=\"155.478,455.779 654.834,455.779 654.834,300.259 155.478,300.259 155.478,455.779 \"/>\n",
       "<line clip-path=\"url(#clip400)\" x1=\"288.69\" y1=\"374.855\" x2=\"288.69\" y2=\"329.344\" style=\"stroke:#009af9; stroke-width:2.27556; stroke-opacity:1\"/>\n",
       "<path clip-path=\"url(#clip400)\" d=\"M426.185 365.491 L426.185 379.241 L421.903 379.241 L421.903 343.454 L426.185 343.454 L426.185 347.389 Q427.528 345.074 429.565 343.963 Q431.625 342.829 434.472 342.829 Q439.194 342.829 442.134 346.579 Q445.097 350.329 445.097 356.44 Q445.097 362.551 442.134 366.301 Q439.194 370.051 434.472 370.051 Q431.625 370.051 429.565 368.94 Q427.528 367.805 426.185 365.491 M440.676 356.44 Q440.676 351.741 438.731 349.079 Q436.81 346.393 433.43 346.393 Q430.051 346.393 428.106 349.079 Q426.185 351.741 426.185 356.44 Q426.185 361.139 428.106 363.824 Q430.051 366.486 433.43 366.486 Q436.81 366.486 438.731 363.824 Q440.676 361.139 440.676 356.44 Z\" fill=\"#000000\" fill-rule=\"nonzero\" fill-opacity=\"1\" /><path clip-path=\"url(#clip400)\" d=\"M467.18 347.435 Q466.463 347.018 465.606 346.833 Q464.773 346.625 463.754 346.625 Q460.143 346.625 458.199 348.986 Q456.277 351.324 456.277 355.722 L456.277 369.379 L451.995 369.379 L451.995 343.454 L456.277 343.454 L456.277 347.481 Q457.62 345.12 459.773 343.986 Q461.926 342.829 465.004 342.829 Q465.444 342.829 465.976 342.898 Q466.509 342.944 467.157 343.06 L467.18 347.435 Z\" fill=\"#000000\" fill-rule=\"nonzero\" fill-opacity=\"1\" /><path clip-path=\"url(#clip400)\" d=\"M492.782 355.352 L492.782 357.435 L473.199 357.435 Q473.476 361.833 475.838 364.148 Q478.222 366.44 482.458 366.44 Q484.912 366.44 487.203 365.838 Q489.518 365.236 491.787 364.032 L491.787 368.06 Q489.495 369.032 487.087 369.541 Q484.68 370.051 482.203 370.051 Q476 370.051 472.365 366.44 Q468.754 362.829 468.754 356.671 Q468.754 350.305 472.18 346.579 Q475.629 342.829 481.462 342.829 Q486.694 342.829 489.726 346.208 Q492.782 349.565 492.782 355.352 M488.523 354.102 Q488.476 350.606 486.555 348.523 Q484.657 346.44 481.509 346.44 Q477.944 346.44 475.791 348.454 Q473.662 350.468 473.338 354.125 L488.523 354.102 Z\" fill=\"#000000\" fill-rule=\"nonzero\" fill-opacity=\"1\" /><path clip-path=\"url(#clip400)\" d=\"M510.56 371.787 Q508.754 376.416 507.041 377.828 Q505.328 379.241 502.458 379.241 L499.055 379.241 L499.055 375.676 L501.555 375.676 Q503.314 375.676 504.286 374.842 Q505.259 374.009 506.439 370.907 L507.203 368.963 L496.717 343.454 L501.231 343.454 L509.333 363.731 L517.435 343.454 L521.948 343.454 L510.56 371.787 Z\" fill=\"#000000\" fill-rule=\"nonzero\" fill-opacity=\"1\" /><line clip-path=\"url(#clip400)\" x1=\"288.69\" y1=\"426.695\" x2=\"288.69\" y2=\"381.184\" style=\"stroke:#e26f46; stroke-width:2.27556; stroke-opacity:1\"/>\n",
       "<path clip-path=\"url(#clip400)\" d=\"M426.185 417.331 L426.185 431.081 L421.903 431.081 L421.903 395.294 L426.185 395.294 L426.185 399.229 Q427.528 396.914 429.565 395.803 Q431.625 394.669 434.472 394.669 Q439.194 394.669 442.134 398.419 Q445.097 402.169 445.097 408.28 Q445.097 414.391 442.134 418.141 Q439.194 421.891 434.472 421.891 Q431.625 421.891 429.565 420.78 Q427.528 419.645 426.185 417.331 M440.676 408.28 Q440.676 403.581 438.731 400.919 Q436.81 398.233 433.43 398.233 Q430.051 398.233 428.106 400.919 Q426.185 403.581 426.185 408.28 Q426.185 412.979 428.106 415.664 Q430.051 418.326 433.43 418.326 Q436.81 418.326 438.731 415.664 Q440.676 412.979 440.676 408.28 Z\" fill=\"#000000\" fill-rule=\"nonzero\" fill-opacity=\"1\" /><path clip-path=\"url(#clip400)\" d=\"M467.18 399.275 Q466.463 398.858 465.606 398.673 Q464.773 398.465 463.754 398.465 Q460.143 398.465 458.199 400.826 Q456.277 403.164 456.277 407.562 L456.277 421.219 L451.995 421.219 L451.995 395.294 L456.277 395.294 L456.277 399.321 Q457.62 396.96 459.773 395.826 Q461.926 394.669 465.004 394.669 Q465.444 394.669 465.976 394.738 Q466.509 394.784 467.157 394.9 L467.18 399.275 Z\" fill=\"#000000\" fill-rule=\"nonzero\" fill-opacity=\"1\" /><path clip-path=\"url(#clip400)\" d=\"M492.782 407.192 L492.782 409.275 L473.199 409.275 Q473.476 413.673 475.838 415.988 Q478.222 418.28 482.458 418.28 Q484.912 418.28 487.203 417.678 Q489.518 417.076 491.787 415.872 L491.787 419.9 Q489.495 420.872 487.087 421.381 Q484.68 421.891 482.203 421.891 Q476 421.891 472.365 418.28 Q468.754 414.669 468.754 408.511 Q468.754 402.145 472.18 398.419 Q475.629 394.669 481.462 394.669 Q486.694 394.669 489.726 398.048 Q492.782 401.405 492.782 407.192 M488.523 405.942 Q488.476 402.446 486.555 400.363 Q484.657 398.28 481.509 398.28 Q477.944 398.28 475.791 400.294 Q473.662 402.308 473.338 405.965 L488.523 405.942 Z\" fill=\"#000000\" fill-rule=\"nonzero\" fill-opacity=\"1\" /><path clip-path=\"url(#clip400)\" d=\"M516.833 399.229 L516.833 385.201 L521.092 385.201 L521.092 421.219 L516.833 421.219 L516.833 417.331 Q515.49 419.645 513.43 420.78 Q511.393 421.891 508.523 421.891 Q503.823 421.891 500.861 418.141 Q497.921 414.391 497.921 408.28 Q497.921 402.169 500.861 398.419 Q503.823 394.669 508.523 394.669 Q511.393 394.669 513.43 395.803 Q515.49 396.914 516.833 399.229 M502.319 408.28 Q502.319 412.979 504.24 415.664 Q506.185 418.326 509.564 418.326 Q512.944 418.326 514.888 415.664 Q516.833 412.979 516.833 408.28 Q516.833 403.581 514.888 400.919 Q512.944 398.233 509.564 398.233 Q506.185 398.233 504.24 400.919 Q502.319 403.581 502.319 408.28 Z\" fill=\"#000000\" fill-rule=\"nonzero\" fill-opacity=\"1\" /><path clip-path=\"url(#clip400)\" d=\"M541.647 408.187 Q536.485 408.187 534.495 409.368 Q532.504 410.548 532.504 413.395 Q532.504 415.664 533.985 417.007 Q535.49 418.326 538.059 418.326 Q541.601 418.326 543.731 415.826 Q545.883 413.303 545.883 409.136 L545.883 408.187 L541.647 408.187 M550.143 406.428 L550.143 421.219 L545.883 421.219 L545.883 417.284 Q544.425 419.645 542.249 420.78 Q540.073 421.891 536.925 421.891 Q532.944 421.891 530.583 419.669 Q528.245 417.423 528.245 413.673 Q528.245 409.298 531.161 407.076 Q534.101 404.854 539.911 404.854 L545.883 404.854 L545.883 404.437 Q545.883 401.497 543.939 399.9 Q542.018 398.28 538.522 398.28 Q536.3 398.28 534.194 398.812 Q532.087 399.345 530.143 400.409 L530.143 396.474 Q532.481 395.571 534.68 395.132 Q536.879 394.669 538.962 394.669 Q544.587 394.669 547.365 397.585 Q550.143 400.502 550.143 406.428 Z\" fill=\"#000000\" fill-rule=\"nonzero\" fill-opacity=\"1\" /><path clip-path=\"url(#clip400)\" d=\"M563.129 387.933 L563.129 395.294 L571.902 395.294 L571.902 398.604 L563.129 398.604 L563.129 412.678 Q563.129 415.849 563.985 416.752 Q564.865 417.655 567.527 417.655 L571.902 417.655 L571.902 421.219 L567.527 421.219 Q562.596 421.219 560.721 419.391 Q558.846 417.539 558.846 412.678 L558.846 398.604 L555.721 398.604 L555.721 395.294 L558.846 395.294 L558.846 387.933 L563.129 387.933 Z\" fill=\"#000000\" fill-rule=\"nonzero\" fill-opacity=\"1\" /><path clip-path=\"url(#clip400)\" d=\"M587.55 398.28 Q584.124 398.28 582.133 400.965 Q580.143 403.627 580.143 408.28 Q580.143 412.932 582.11 415.618 Q584.101 418.28 587.55 418.28 Q590.953 418.28 592.943 415.594 Q594.934 412.909 594.934 408.28 Q594.934 403.673 592.943 400.988 Q590.953 398.28 587.55 398.28 M587.55 394.669 Q593.105 394.669 596.277 398.28 Q599.448 401.891 599.448 408.28 Q599.448 414.645 596.277 418.28 Q593.105 421.891 587.55 421.891 Q581.971 421.891 578.8 418.28 Q575.652 414.645 575.652 408.28 Q575.652 401.891 578.8 398.28 Q581.971 394.669 587.55 394.669 Z\" fill=\"#000000\" fill-rule=\"nonzero\" fill-opacity=\"1\" /><path clip-path=\"url(#clip400)\" d=\"M621.531 399.275 Q620.814 398.858 619.957 398.673 Q619.124 398.465 618.105 398.465 Q614.494 398.465 612.55 400.826 Q610.628 403.164 610.628 407.562 L610.628 421.219 L606.346 421.219 L606.346 395.294 L610.628 395.294 L610.628 399.321 Q611.971 396.96 614.124 395.826 Q616.277 394.669 619.355 394.669 Q619.795 394.669 620.327 394.738 Q620.86 394.784 621.508 394.9 L621.531 399.275 Z\" fill=\"#000000\" fill-rule=\"nonzero\" fill-opacity=\"1\" /></svg>\n"
      ]
     },
     "execution_count": 2,
     "metadata": {},
     "output_type": "execute_result"
    }
   ],
   "source": [
    "seed = 1\n",
    "λ0 = 50.\n",
    "dat = sim_PredatorPrey_event_data(seed=seed, λ0=λ0);\n",
    "\n",
    "# plot simulated data\n",
    "plot(size=(800,200), legend=:outerleft)\n",
    "scatter!(dat.times[1], ones(length(dat.times[1])), m=:vline, label=\"prey\")\n",
    "scatter!(dat.times[2], zeros(length(dat.times[2])), m=:vline, label=\"predator\")\n",
    "ylims!(-1,2)"
   ]
  },
  {
   "cell_type": "markdown",
   "metadata": {},
   "source": [
    "## ***2. Define models***"
   ]
  },
  {
   "cell_type": "code",
   "execution_count": 3,
   "metadata": {},
   "outputs": [],
   "source": [
    "times = Dict(1=>dat.times[1], 2=>dat.times[2])\n",
    "classes = Dict(1=>\"prey\", 2=>\"predator\")\n",
    "U = 21  # number of inducing points\n",
    "T = 100  # number of observation points\n",
    "T_coarse = 20  # number of observation points for coarsly discretized GPGM\n",
    "base_kernel = :RBF\n",
    "ϕ = [5.0, 0.1, 0.1]\n",
    "γ = 0.1\n",
    "\n",
    "# ODE guided Cox process with LGCP-based Gradient Matching\n",
    "odecox = PredatorPreyCoxProcess(\n",
    "    times, classes; λ0=λ0, U=U, T=T, γ=γ, base_kernel=base_kernel, ascale=ϕ[1], lscale=ϕ[2], δ=ϕ[3])\n",
    "# Conventional ODE Model with GP-based Gradient Matching (coarsly discretized observation points)\n",
    "odemod_coarse = PredatorPreyModel(\n",
    "    times, classes; λ0=λ0, U=U, T=T_coarse, γ=γ, base_kernel=base_kernel)  # NOTE: kernel parameters and σ are optimized\n",
    "# Conventional ODE Model with GP-based Gradient Matching (finely discretized observation points)\n",
    "odemod_fine = PredatorPreyModel(\n",
    "    times, classes; λ0=λ0, U=U, T=T, γ=γ, base_kernel=base_kernel);  # NOTE: kernel parameters and σ are optimized"
   ]
  },
  {
   "cell_type": "markdown",
   "metadata": {},
   "source": [
    "## ***3. Inference***\n",
    "MCMC settings"
   ]
  },
  {
   "cell_type": "code",
   "execution_count": 4,
   "metadata": {},
   "outputs": [
    {
     "data": {
      "text/plain": [
       "10"
      ]
     },
     "execution_count": 4,
     "metadata": {},
     "output_type": "execute_result"
    }
   ],
   "source": [
    "n_burnin = 10000\n",
    "n_thinning = 20\n",
    "n_samples = 1000\n",
    "n_total_iter = n_burnin + n_thinning * n_samples;\n",
    "L = 10"
   ]
  },
  {
   "cell_type": "markdown",
   "metadata": {},
   "source": [
    "Execute inference"
   ]
  },
  {
   "cell_type": "code",
   "execution_count": 5,
   "metadata": {},
   "outputs": [
    {
     "name": "stderr",
     "output_type": "stream",
     "text": [
      "\u001b[33m\u001b[1m┌ \u001b[22m\u001b[39m\u001b[33m\u001b[1mWarning: \u001b[22m\u001b[39mProgressMeter by default refresh meters with additional information in IJulia via `IJulia.clear_output`, which clears all outputs in the cell. \n",
      "\u001b[33m\u001b[1m│ \u001b[22m\u001b[39m - To prevent this behaviour, do `ProgressMeter.ijulia_behavior(:append)`. \n",
      "\u001b[33m\u001b[1m│ \u001b[22m\u001b[39m - To disable this warning message, do `ProgressMeter.ijulia_behavior(:clear)`.\n",
      "\u001b[33m\u001b[1m└ \u001b[22m\u001b[39m\u001b[90m@ ProgressMeter ~/.julia/packages/ProgressMeter/sN2xr/src/ProgressMeter.jl:618\u001b[39m\n",
      "\u001b[32mProgress: 100%|███████████████████████████| Time: 0:04:12 ( 8.43 ms/it)\u001b[39m\n",
      "\u001b[34m  iter:                             30000\u001b[39m\n",
      "\u001b[34m  total_iter:                       30000\u001b[39m\n",
      "\u001b[34m  ll:                               -462.570\u001b[39m\n",
      "\u001b[34m  ll_y⎸zσϕ:                         -360.835 (-1.804/variable)\u001b[39m\n",
      "\u001b[34m  ll_z⎸ϕ:                           -12.257 (-6.128/category)\u001b[39m\n",
      "\u001b[34m  ll_grad:                          -82.392\u001b[39m\n",
      "\u001b[34m  lp_θ:                             -7.085\u001b[39m\n",
      "\n",
      "\u001b[34m  sample blocks:                    \u001b[39m\n",
      "\u001b[34m                                    x - HMC\u001b[39m\n",
      "\u001b[34m                                    θ - HMC\u001b[39m\n",
      "\u001b[34m  accept % (in recent 100 trials):  \u001b[39m\n",
      "\u001b[34m                                    (:x, :HMC) => 91%\u001b[39m\n",
      "\u001b[34m                                    (:θ, :HMC) => 56%\u001b[39m\n",
      "\u001b[34m  L:                                \u001b[39m\n",
      "\u001b[34m                                    x-HMC: 5 (being adjusted, but L*ϵ is constant)\u001b[39m\n",
      "\u001b[34m                                    θ-HMC: 12 (being adjusted, but L*ϵ is constant)\u001b[39m\n",
      "\u001b[34m  ϵ:                                \u001b[39m\n",
      "\u001b[34m                                    x-HMC: 0.00165 (being adjusted, but L*ϵ is constant)\u001b[39m\n",
      "\u001b[34m                                    θ-HMC: 0.03772 (being adjusted, but L*ϵ is constant)\u001b[39m\n",
      "\u001b[34m  burnin:                           false\u001b[39m\n",
      "\u001b[34m  gradient matching:                true\u001b[39m\n",
      "\u001b[34m  γ weighting:                      false\u001b[39m\n",
      "\u001b[34m  A diagonalizing:                  true\u001b[39m\n",
      "\u001b[34m  β (inverse temperature):          1.000 (fixed)\u001b[39m\n",
      "\u001b[34m  % grad errors in ±1 std:          83.3\u001b[39m\n",
      "\u001b[34m  % grad errors in ±2 std:          97.6\u001b[39m\n",
      "\u001b[34m  % grad errors in ±3 std:          100.0\u001b[39m\n",
      "\u001b[34m  σ:                                [1.8132534186429203, 1.1529907321788184]\u001b[39m\n",
      "\u001b[34m  gp mean:                          [0.0, 0.0]\u001b[39m\n",
      "\u001b[34m  kernel:                           [\"RBF\", \"RBF\"]\u001b[39m\n",
      "\u001b[34m  ϕ_1:                              [1.5794110660093639, 0.8904806047715055]\u001b[39m\n",
      "\u001b[34m  ϕ_2:                              [0.09109975057389336, 0.09644297448208915]\u001b[39m\n",
      "\u001b[34m  ϕ_3:                              [0.10111503824440289, 0.10028506837198044]\u001b[39m\n",
      "\u001b[34m  γ:                                0.100\u001b[39m\n"
     ]
    }
   ],
   "source": [
    "Random.seed!(seed)\n",
    "chain_odecox = Chain(\n",
    "    odecox, n_burnin=n_burnin, n_thinning=n_thinning,\n",
    "    blocks=[HMCBlock(:y, L=L), HMCBlock(:x, L=L), HMCBlock(:θ, L=L)])\n",
    "chain_odecox = train!(odecox, n_total_iter, chain_odecox)\n",
    "\n",
    "chain_coarse = Chain(\n",
    "    odemod_coarse, n_burnin=n_burnin, n_thinning=n_thinning,\n",
    "    blocks=[HMCBlock(:x, L=L), HMCBlock(:θ, L=L)])\n",
    "chain_coarse = train!(odemod_coarse, n_total_iter, chain_coarse)\n",
    "\n",
    "chain_fine = Chain(\n",
    "    odemod_fine, n_burnin=n_burnin, n_thinning=n_thinning,\n",
    "    blocks=[HMCBlock(:x, L=L), HMCBlock(:θ, L=L)])\n",
    "chain_fine = train!(odemod_fine, n_total_iter, chain_fine);"
   ]
  },
  {
   "cell_type": "markdown",
   "metadata": {},
   "source": [
    "## ***4. Store results***"
   ]
  },
  {
   "cell_type": "code",
   "execution_count": 6,
   "metadata": {},
   "outputs": [],
   "source": [
    "results =  Dict(\n",
    "    λ0 => Dict(\n",
    "        \"data\" => dat,\n",
    "        \"odecox\" => (mod=odecox, chain=chain_odecox),\n",
    "        \"odemod_coarse\" => (mod=odemod_coarse, chain=chain_coarse),\n",
    "        \"odemod_fine\" => (mod=odemod_fine, chain=chain_fine)\n",
    "    )\n",
    ");"
   ]
  },
  {
   "cell_type": "markdown",
   "metadata": {},
   "source": [
    "## ***5. Experiments with different $\\lambda_0$***"
   ]
  },
  {
   "cell_type": "code",
   "execution_count": 7,
   "metadata": {},
   "outputs": [
    {
     "name": "stderr",
     "output_type": "stream",
     "text": [
      "\u001b[33m\u001b[1m┌ \u001b[22m\u001b[39m\u001b[33m\u001b[1mWarning: \u001b[22m\u001b[39mProgressMeter by default refresh meters with additional information in IJulia via `IJulia.clear_output`, which clears all outputs in the cell. \n",
      "\u001b[33m\u001b[1m│ \u001b[22m\u001b[39m - To prevent this behaviour, do `ProgressMeter.ijulia_behavior(:append)`. \n",
      "\u001b[33m\u001b[1m│ \u001b[22m\u001b[39m - To disable this warning message, do `ProgressMeter.ijulia_behavior(:clear)`.\n",
      "\u001b[33m\u001b[1m└ \u001b[22m\u001b[39m\u001b[90m@ ProgressMeter ~/.julia/packages/ProgressMeter/sN2xr/src/ProgressMeter.jl:618\u001b[39m\n",
      "\u001b[32mProgress: 100%|███████████████████████████| Time: 0:07:33 (15.12 ms/it)\u001b[39m\n",
      "\u001b[34m  iter:                             30000\u001b[39m\n",
      "\u001b[34m  total_iter:                       30000\u001b[39m\n",
      "\u001b[34m  ll:                               -217.984\u001b[39m\n",
      "\u001b[34m  ll_y⎸zσϕ:                         -86.657 (-0.433/variable)\u001b[39m\n",
      "\u001b[34m  ll_z⎸ϕ:                           -28.052 (-14.026/category)\u001b[39m\n",
      "\u001b[34m  ll_grad:                          -96.223\u001b[39m\n",
      "\u001b[34m  lp_θ:                             -7.053\u001b[39m\n",
      "\n",
      "\u001b[34m  sample blocks:                    \u001b[39m\n",
      "\u001b[34m                                    x - HMC\u001b[39m\n",
      "\u001b[34m                                    θ - HMC\u001b[39m\n",
      "\u001b[34m  accept % (in recent 100 trials):  \u001b[39m\n",
      "\u001b[34m                                    (:x, :HMC) => 41%\u001b[39m\n",
      "\u001b[34m                                    (:θ, :HMC) => 61%\u001b[39m\n",
      "\u001b[34m  L:                                \u001b[39m\n",
      "\u001b[34m                                    x-HMC: 30 (being adjusted, but L*ϵ is constant)\u001b[39m\n",
      "\u001b[34m                                    θ-HMC: 7 (being adjusted, but L*ϵ is constant)\u001b[39m\n",
      "\u001b[34m  ϵ:                                \u001b[39m\n",
      "\u001b[34m                                    x-HMC: 0.00127 (being adjusted, but L*ϵ is constant)\u001b[39m\n",
      "\u001b[34m                                    θ-HMC: 0.04015 (being adjusted, but L*ϵ is constant)\u001b[39m\n",
      "\u001b[34m  burnin:                           false\u001b[39m\n",
      "\u001b[34m  gradient matching:                true\u001b[39m\n",
      "\u001b[34m  γ weighting:                      false\u001b[39m\n",
      "\u001b[34m  A diagonalizing:                  true\u001b[39m\n",
      "\u001b[34m  β (inverse temperature):          1.000 (fixed)\u001b[39m\n",
      "\u001b[34m  % grad errors in ±1 std:          66.7\u001b[39m\n",
      "\u001b[34m  % grad errors in ±2 std:          95.2\u001b[39m\n",
      "\u001b[34m  % grad errors in ±3 std:          100.0\u001b[39m\n",
      "\u001b[34m  σ:                                [0.41536723844940626, 0.30211220781296566]\u001b[39m\n",
      "\u001b[34m  gp mean:                          [0.0, 0.0]\u001b[39m\n",
      "\u001b[34m  kernel:                           [\"RBF\", \"RBF\"]\u001b[39m\n",
      "\u001b[34m  ϕ_1:                              [1.9861562112526863, 0.9469966621248272]\u001b[39m\n",
      "\u001b[34m  ϕ_2:                              [0.0826528314074901, 0.09315039940917633]\u001b[39m\n",
      "\u001b[34m  ϕ_3:                              [0.09898154375465527, 0.10116625001069396]\u001b[39m\n",
      "\u001b[34m  γ:                                0.100\u001b[39m\n"
     ]
    }
   ],
   "source": [
    "Random.seed!(seed)\n",
    "for λ0 in [100., 1000.]\n",
    "    # simulate data\n",
    "    dat = sim_PredatorPrey_event_data(seed=seed, λ0=λ0);\n",
    "\n",
    "    # define models\n",
    "    times = Dict(1=>dat.times[1], 2=>dat.times[2])\n",
    "    classes = Dict(1=>\"prey\", 2=>\"predator\")\n",
    "\n",
    "    odecox = PredatorPreyCoxProcess(\n",
    "        times, classes; λ0=λ0, U=U, T=T, γ=γ, base_kernel=base_kernel, ascale=ϕ[1], lscale=ϕ[2], δ=ϕ[3])\n",
    "    odemod_coarse = PredatorPreyModel(\n",
    "        times, classes; λ0=λ0, U=U, T=T_coarse, γ=γ, base_kernel=base_kernel)\n",
    "    odemod_fine = PredatorPreyModel(\n",
    "        times, classes; λ0=λ0, U=U, T=T, γ=γ, base_kernel=base_kernel)\n",
    "\n",
    "    # inference\n",
    "    chain_odecox = Chain(\n",
    "        odecox, n_burnin=n_burnin, n_thinning=n_thinning,\n",
    "        blocks=[HMCBlock(:y, L=L), HMCBlock(:x, L=L), HMCBlock(:θ, L=L)])\n",
    "    chain_odecox = train!(odecox, n_total_iter, chain_odecox)\n",
    "\n",
    "    chain_coarse = Chain(\n",
    "        odemod_coarse, n_burnin=n_burnin, n_thinning=n_thinning,\n",
    "        blocks=[HMCBlock(:x, L=L), HMCBlock(:θ, L=L)])\n",
    "    chain_coarse = train!(odemod_coarse, n_total_iter, chain_coarse)\n",
    "\n",
    "    chain_fine = Chain(\n",
    "        odemod_fine, n_burnin=n_burnin, n_thinning=n_thinning,\n",
    "        blocks=[HMCBlock(:x, L=L), HMCBlock(:θ, L=L)])\n",
    "    chain_fine = train!(odemod_fine, n_total_iter, chain_fine)\n",
    "\n",
    "    # Store results\n",
    "    results[λ0] = Dict(\n",
    "        \"data\" => dat,\n",
    "        \"odecox\" => (mod=odecox, chain=chain_odecox),\n",
    "        \"odemod_coarse\" => (mod=odemod_coarse, chain=chain_coarse),\n",
    "        \"odemod_fine\" => (mod=odemod_fine, chain=chain_fine)\n",
    "    );\n",
    "end;"
   ]
  },
  {
   "cell_type": "markdown",
   "metadata": {},
   "source": [
    "## ***6. Save results***"
   ]
  },
  {
   "cell_type": "code",
   "execution_count": 8,
   "metadata": {},
   "outputs": [],
   "source": [
    "_dir = @__DIR__\n",
    "if ~Base.isdir(\"$(_dir)/../results\")\n",
    "    Base.mkdir(\"$(_dir)/../results\")\n",
    "end\n",
    "open(\"$(_dir)/../results/exp-5.2.2-PredatorPrey_seed$(seed).dat\", \"w\") do io\n",
    "    Serialization.serialize(io, results)\n",
    "end"
   ]
  },
  {
   "cell_type": "markdown",
   "metadata": {},
   "source": [
    "---\n",
    "\n",
    "*This notebook was generated using [Literate.jl](https://github.com/fredrikekre/Literate.jl).*"
   ]
  }
 ],
 "metadata": {
  "kernelspec": {
   "display_name": "Julia 1.6.7",
   "language": "julia",
   "name": "julia-1.6"
  },
  "language_info": {
   "file_extension": ".jl",
   "mimetype": "application/julia",
   "name": "julia",
   "version": "1.6.7"
  }
 },
 "nbformat": 4,
 "nbformat_minor": 4
}
