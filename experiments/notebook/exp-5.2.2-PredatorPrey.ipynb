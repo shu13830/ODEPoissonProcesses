{
 "cells": [
  {
   "cell_type": "markdown",
   "source": [
    "# ***ODE Parameter Estimation with Predator-Prey Model***\n",
    "---"
   ],
   "metadata": {}
  },
  {
   "outputs": [],
   "cell_type": "code",
   "source": [
    "using ODEPoissonProcesses\n",
    "using Plots\n",
    "using Random\n",
    "using Serialization"
   ],
   "metadata": {},
   "execution_count": null
  },
  {
   "cell_type": "markdown",
   "source": [
    "## ***1. Simulate event data***"
   ],
   "metadata": {}
  },
  {
   "outputs": [],
   "cell_type": "code",
   "source": [
    "seed = 1\n",
    "λ0 = 50.\n",
    "dat = sim_PredatorPrey_event_data(seed=seed, λ0=λ0);\n",
    "\n",
    "# plot simulated data\n",
    "plot(size=(800,200), legend=:outerleft)\n",
    "scatter!(dat.times[1], ones(length(dat.times[1])), m=:vline, label=\"prey\")\n",
    "scatter!(dat.times[2], zeros(length(dat.times[2])), m=:vline, label=\"predator\")\n",
    "ylims!(-1,2)"
   ],
   "metadata": {},
   "execution_count": null
  },
  {
   "cell_type": "markdown",
   "source": [
    "## ***2. Define models***"
   ],
   "metadata": {}
  },
  {
   "outputs": [],
   "cell_type": "code",
   "source": [
    "times = Dict(1=>dat.times[1], 2=>dat.times[2])\n",
    "classes = Dict(1=>\"prey\", 2=>\"predator\")\n",
    "U = 21  # number of inducing points\n",
    "T = 100  # number of observation points\n",
    "T_coarse = 20  # number of observation points for coarsly discretized GPGM\n",
    "base_kernel = :RBF\n",
    "ϕ = [5.0, 0.1, 0.1]\n",
    "γ = 0.1\n",
    "\n",
    "# ODE guided Poisson process with LGCP-based Gradient Matching\n",
    "odepois = PredatorPreyPoissonProcess(\n",
    "    times, classes; λ0=λ0, U=U, T=T, γ=γ, base_kernel=base_kernel, ascale=ϕ[1], lscale=ϕ[2], δ=ϕ[3])\n",
    "# Conventional ODE Model with GP-based Gradient Matching (coarsly discretized observation points)\n",
    "odemod_coarse = PredatorPreyModel(\n",
    "    times, classes; λ0=λ0, U=U, T=T_coarse, γ=γ, base_kernel=base_kernel)  # NOTE: kernel parameters and σ are optimized\n",
    "# Conventional ODE Model with GP-based Gradient Matching (finely discretized observation points)\n",
    "odemod_fine = PredatorPreyModel(\n",
    "    times, classes; λ0=λ0, U=U, T=T, γ=γ, base_kernel=base_kernel);  # NOTE: kernel parameters and σ are optimized"
   ],
   "metadata": {},
   "execution_count": null
  },
  {
   "cell_type": "markdown",
   "source": [
    "## ***3. Inference***\n",
    "MCMC settings"
   ],
   "metadata": {}
  },
  {
   "outputs": [],
   "cell_type": "code",
   "source": [
    "n_burnin = 10000\n",
    "n_thinning = 20\n",
    "n_samples = 1000\n",
    "n_total_iter = n_burnin + n_thinning * n_samples;\n",
    "L = 10"
   ],
   "metadata": {},
   "execution_count": null
  },
  {
   "cell_type": "markdown",
   "source": [
    "Execute inference"
   ],
   "metadata": {}
  },
  {
   "outputs": [],
   "cell_type": "code",
   "source": [
    "Random.seed!(seed)\n",
    "chain_odepois = Chain(\n",
    "    odepois, n_burnin=n_burnin, n_thinning=n_thinning,\n",
    "    blocks=[HMCBlock(:y, L=L), HMCBlock(:x, L=L), HMCBlock(:θ, L=L)])\n",
    "chain_odepois = train!(odepois, n_total_iter, chain_odepois)\n",
    "\n",
    "chain_coarse = Chain(\n",
    "    odemod_coarse, n_burnin=n_burnin, n_thinning=n_thinning,\n",
    "    blocks=[HMCBlock(:x, L=L), HMCBlock(:θ, L=L)])\n",
    "chain_coarse = train!(odemod_coarse, n_total_iter, chain_coarse)\n",
    "\n",
    "chain_fine = Chain(\n",
    "    odemod_fine, n_burnin=n_burnin, n_thinning=n_thinning,\n",
    "    blocks=[HMCBlock(:x, L=L), HMCBlock(:θ, L=L)])\n",
    "chain_fine = train!(odemod_fine, n_total_iter, chain_fine);"
   ],
   "metadata": {},
   "execution_count": null
  },
  {
   "cell_type": "markdown",
   "source": [
    "## ***4. Store results***"
   ],
   "metadata": {}
  },
  {
   "outputs": [],
   "cell_type": "code",
   "source": [
    "results =  Dict(\n",
    "    λ0 => Dict(\n",
    "        \"data\" => dat,\n",
    "        \"odepois\" => (mod=odepois, chain=chain_odepois),\n",
    "        \"odemod_coarse\" => (mod=odemod_coarse, chain=chain_coarse),\n",
    "        \"odemod_fine\" => (mod=odemod_fine, chain=chain_fine)\n",
    "    )\n",
    ");"
   ],
   "metadata": {},
   "execution_count": null
  },
  {
   "cell_type": "markdown",
   "source": [
    "## ***5. Experiments with different $\\lambda_0$***"
   ],
   "metadata": {}
  },
  {
   "outputs": [],
   "cell_type": "code",
   "source": [
    "Random.seed!(seed)\n",
    "for λ0 in [100., 1000.]\n",
    "    # simulate data\n",
    "    dat = sim_PredatorPrey_event_data(seed=seed, λ0=λ0);\n",
    "\n",
    "    # define models\n",
    "    times = Dict(1=>dat.times[1], 2=>dat.times[2])\n",
    "    classes = Dict(1=>\"prey\", 2=>\"predator\")\n",
    "\n",
    "    odepois = PredatorPreyPoissonProcess(\n",
    "        times, classes; λ0=λ0, U=U, T=T, γ=γ, base_kernel=base_kernel, ascale=ϕ[1], lscale=ϕ[2], δ=ϕ[3])\n",
    "    odemod_coarse = PredatorPreyModel(\n",
    "        times, classes; λ0=λ0, U=U, T=T_coarse, γ=γ, base_kernel=base_kernel)\n",
    "    odemod_fine = PredatorPreyModel(\n",
    "        times, classes; λ0=λ0, U=U, T=T, γ=γ, base_kernel=base_kernel)\n",
    "\n",
    "    # inference\n",
    "    chain_odepois = Chain(\n",
    "        odepois, n_burnin=n_burnin, n_thinning=n_thinning,\n",
    "        blocks=[HMCBlock(:y, L=L), HMCBlock(:x, L=L), HMCBlock(:θ, L=L)])\n",
    "    chain_odepois = train!(odepois, n_total_iter, chain_odepois)\n",
    "\n",
    "    chain_coarse = Chain(\n",
    "        odemod_coarse, n_burnin=n_burnin, n_thinning=n_thinning,\n",
    "        blocks=[HMCBlock(:x, L=L), HMCBlock(:θ, L=L)])\n",
    "    chain_coarse = train!(odemod_coarse, n_total_iter, chain_coarse)\n",
    "\n",
    "    chain_fine = Chain(\n",
    "        odemod_fine, n_burnin=n_burnin, n_thinning=n_thinning,\n",
    "        blocks=[HMCBlock(:x, L=L), HMCBlock(:θ, L=L)])\n",
    "    chain_fine = train!(odemod_fine, n_total_iter, chain_fine)\n",
    "\n",
    "    # Store results\n",
    "    results[λ0] = Dict(\n",
    "        \"data\" => dat,\n",
    "        \"odepois\" => (mod=odepois, chain=chain_odepois),\n",
    "        \"odemod_coarse\" => (mod=odemod_coarse, chain=chain_coarse),\n",
    "        \"odemod_fine\" => (mod=odemod_fine, chain=chain_fine)\n",
    "    );\n",
    "end;"
   ],
   "metadata": {},
   "execution_count": null
  },
  {
   "cell_type": "markdown",
   "source": [
    "## ***6. Save results***"
   ],
   "metadata": {}
  },
  {
   "outputs": [],
   "cell_type": "code",
   "source": [
    "_dir = @__DIR__\n",
    "if ~Base.isdir(\"$(_dir)/../results\")\n",
    "    Base.mkdir(\"$(_dir)/../results\")\n",
    "end\n",
    "open(\"$(_dir)/../results/exp-5.2.2-PredatorPrey_seed$(seed).dat\", \"w\") do io\n",
    "    Serialization.serialize(io, results)\n",
    "end"
   ],
   "metadata": {},
   "execution_count": null
  },
  {
   "cell_type": "markdown",
   "source": [
    "---\n",
    "\n",
    "*This notebook was generated using [Literate.jl](https://github.com/fredrikekre/Literate.jl).*"
   ],
   "metadata": {}
  }
 ],
 "nbformat_minor": 3,
 "metadata": {
  "language_info": {
   "file_extension": ".jl",
   "mimetype": "application/julia",
   "name": "julia",
   "version": "1.6.7"
  },
  "kernelspec": {
   "name": "julia-1.6",
   "display_name": "Julia 1.6.7",
   "language": "julia"
  }
 },
 "nbformat": 4
}
