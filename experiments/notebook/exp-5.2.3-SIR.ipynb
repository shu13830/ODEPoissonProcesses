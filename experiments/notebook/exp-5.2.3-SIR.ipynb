{
 "cells": [
  {
   "cell_type": "markdown",
   "source": [
    "# ***Extrapolation with SIR Model***\n",
    "---"
   ],
   "metadata": {}
  },
  {
   "outputs": [],
   "cell_type": "code",
   "source": [
    "using LGCPGradientMatching\n",
    "using StatsBase\n",
    "using Plots\n",
    "using Random\n",
    "using Serialization"
   ],
   "metadata": {},
   "execution_count": null
  },
  {
   "cell_type": "markdown",
   "source": [
    "## ***1. Simulate event data***"
   ],
   "metadata": {}
  },
  {
   "outputs": [],
   "cell_type": "code",
   "source": [
    "seed = 1\n",
    "λ0 = 50.\n",
    "dat = sim_SIR_event_data(seed=seed, λ0=λ0);\n",
    "\n",
    "# plot simulated data\n",
    "plot(size=(800,200), legend=:outerleft)\n",
    "scatter!(dat.times[1], zeros(length(dat.times[1])) .+ 2, m=:vline, label=\"S\")\n",
    "scatter!(dat.times[2], zeros(length(dat.times[2])) .+ 1, m=:vline, label=\"I\")\n",
    "scatter!(dat.times[3], zeros(length(dat.times[3])), m=:vline, label=\"R\")\n",
    "ylims!(-1,3)"
   ],
   "metadata": {},
   "execution_count": null
  },
  {
   "cell_type": "markdown",
   "source": [
    "## ***2. Define models***"
   ],
   "metadata": {}
  },
  {
   "outputs": [],
   "cell_type": "code",
   "source": [
    "times = Dict(1=>dat.times[1], 2=>dat.times[2], 3=>dat.times[3])\n",
    "classes = Dict(1=>\"S\", 2=>\"I\", 3=>\"R\")\n",
    "U = 21  # number of inducing points\n",
    "T = 100  # number of observation points\n",
    "base_kernel = :RBF\n",
    "ϕ = [5.0, 0.15, 0.1]\n",
    "γ = 0.1\n",
    "\n",
    "# NOTE: set `ex_time` for extrapolation\n",
    "# ODE guided Cox process with LGCP-based Gradient Matching\n",
    "odecox = SIRCoxProcess(\n",
    "    times, classes; λ0=λ0, U=U, T=T, γ=γ,\n",
    "    base_kernel=base_kernel, ascale=ϕ[1], lscale=ϕ[2], δ=ϕ[3], ex_time=0.5)\n",
    "\n",
    "# kernel parameter grid search for LGCP\n",
    "a_options = [0.5, 1.0, 1.5, 2.0]\n",
    "l_options = [0.1, 0.15, 0.2, 0.25]\n",
    "δ_options = [0.1]\n",
    "\n",
    "ϕ_patterns = []\n",
    "lls = []\n",
    "for a in a_options, l in l_options, δ in δ_options\n",
    "    cox = SIRCoxProcess(\n",
    "        times, classes; λ0=λ0, U=U, T=T, γ=γ,\n",
    "        base_kernel=base_kernel, ascale=a, lscale=l, δ=δ)\n",
    "    chain_cox = Chain(\n",
    "        cox, n_burnin=1500, n_thinning=50,\n",
    "        blocks=[HMCBlock(:y, L=10), HMCBlock(:x, L=10)])\n",
    "    chain_cox = train!(cox, 2000, chain_cox, do_gm=false)\n",
    "    push!(ϕ_patterns, (a, l, δ))\n",
    "    push!(lls, mean(chain_cox[:ll][1501:2000]))\n",
    "end\n",
    "\n",
    "# Find the best kernel parameter setting\n",
    "ϕ_best_lgcp = ϕ_patterns[maximum(lls) .== lls][1]\n",
    "\n",
    "# Cox process with LGCP (do not use Gradient Matching)\n",
    "cox = SIRCoxProcess(\n",
    "    times, classes; λ0=λ0, U=U, T=T, γ=γ,\n",
    "    base_kernel=base_kernel, ascale=ϕ_best_lgcp[1], lscale=ϕ_best_lgcp[2], δ=ϕ_best_lgcp[3], ex_time=0.5);"
   ],
   "metadata": {},
   "execution_count": null
  },
  {
   "cell_type": "markdown",
   "source": [
    "## ***3. Inference***\n",
    "MCMC iteration settings"
   ],
   "metadata": {}
  },
  {
   "outputs": [],
   "cell_type": "code",
   "source": [
    "n_burnin = 10000\n",
    "n_thinning = 20\n",
    "n_samples = 1000\n",
    "n_total_iter = n_burnin + n_thinning * n_samples;"
   ],
   "metadata": {},
   "execution_count": null
  },
  {
   "cell_type": "markdown",
   "source": [
    "Execute inference"
   ],
   "metadata": {}
  },
  {
   "outputs": [],
   "cell_type": "code",
   "source": [
    "Random.seed!(seed)\n",
    "chain_odecox = Chain(\n",
    "    odecox, n_burnin=n_burnin, n_thinning=n_thinning,\n",
    "    blocks=[HMCBlock(:y, L=10), HMCBlock(:x, L=10), HMCBlock(:θ, L=10)])\n",
    "chain_odecox = train!(odecox, n_total_iter, chain_odecox);\n",
    "\n",
    "# NOTE: do not use gradient matching scheme\n",
    "chain_cox = Chain(\n",
    "    cox, n_burnin=n_burnin, n_thinning=n_thinning,\n",
    "    blocks=[HMCBlock(:y, L=10), HMCBlock(:x, L=10)])\n",
    "chain_cox = train!(cox, n_total_iter, chain_cox, do_gm=false);"
   ],
   "metadata": {},
   "execution_count": null
  },
  {
   "cell_type": "markdown",
   "source": [
    "## ***4. Store results***"
   ],
   "metadata": {}
  },
  {
   "outputs": [],
   "cell_type": "code",
   "source": [
    "results =  Dict(\n",
    "    λ0 => Dict(\n",
    "        \"data\" => dat,\n",
    "        \"odecox\" => (mod=odecox, chain=chain_odecox),\n",
    "        \"cox\" => (mod=cox, chain=chain_cox)\n",
    "    )\n",
    ");"
   ],
   "metadata": {},
   "execution_count": null
  },
  {
   "cell_type": "markdown",
   "source": [
    "## ***5. Experiments with different $\\lambda_0$***"
   ],
   "metadata": {}
  },
  {
   "outputs": [],
   "cell_type": "code",
   "source": [
    "Random.seed!(seed)\n",
    "for λ0 in [100., 1000.]\n",
    "    # simulate data\n",
    "    dat = sim_SIR_event_data(seed=seed, λ0=λ0);\n",
    "\n",
    "    # define models\n",
    "    times = Dict(1=>dat.times[1], 2=>dat.times[2], 3=>dat.times[3])\n",
    "    classes = Dict(1=>\"S\", 2=>\"I\", 3=>\"R\")\n",
    "\n",
    "    odecox = SIRCoxProcess(\n",
    "        times, classes; λ0=λ0, U=U, T=T, γ=γ,\n",
    "        base_kernel=base_kernel, ascale=ϕ[1], lscale=ϕ[2], δ=ϕ[3], ex_time=0.5)\n",
    "\n",
    "    ϕ_patterns = []\n",
    "    lls = []\n",
    "    for a in a_options, l in l_options, δ in δ_options\n",
    "        cox = SIRCoxProcess(\n",
    "            times, classes; λ0=λ0, U=U, T=T, γ=γ,\n",
    "            base_kernel=base_kernel, ascale=a, lscale=l, δ=δ)\n",
    "        chain_cox = Chain(\n",
    "            cox, n_burnin=1500, n_thinning=50,\n",
    "            blocks=[HMCBlock(:y, L=10), HMCBlock(:x, L=10)])\n",
    "        chain_cox = train!(cox, 2000, chain_cox, do_gm=false)\n",
    "        push!(ϕ_patterns, (a, l, δ))\n",
    "        push!(lls, mean(chain_cox[:ll][1501:2000]))\n",
    "    end\n",
    "    ϕ_best_lgcp = ϕ_patterns[maximum(lls) .== lls][1]\n",
    "    cox = SIRCoxProcess(\n",
    "        times, classes; λ0=λ0, U=U, T=T, γ=γ,\n",
    "        base_kernel=base_kernel, ascale=ϕ_best_lgcp[1], lscale=ϕ_best_lgcp[2], δ=ϕ_best_lgcp[3], ex_time=0.5);\n",
    "\n",
    "    # inference\n",
    "    chain_odecox = Chain(\n",
    "        odecox, n_burnin=n_burnin, n_thinning=n_thinning,\n",
    "        blocks=[HMCBlock(:y, L=10), HMCBlock(:x, L=10), HMCBlock(:θ, L=10)])\n",
    "    chain_odecox = train!(odecox, n_total_iter, chain_odecox)\n",
    "\n",
    "    chain_cox = Chain(\n",
    "        cox, n_burnin=n_burnin, n_thinning=n_thinning,\n",
    "        blocks=[HMCBlock(:y, L=10), HMCBlock(:x, L=10)])\n",
    "    chain_cox = train!(cox, n_total_iter, chain_cox, do_gm=false)\n",
    "\n",
    "    # Store results\n",
    "    results[λ0] = Dict(\n",
    "        \"data\" => dat,\n",
    "        \"odecox\" => (mod=odecox, chain=chain_odecox),\n",
    "        \"cox\" => (mod=cox, chain=chain_cox)\n",
    "    );\n",
    "end;"
   ],
   "metadata": {},
   "execution_count": null
  },
  {
   "cell_type": "markdown",
   "source": [
    "## ***6. Save results***"
   ],
   "metadata": {}
  },
  {
   "outputs": [],
   "cell_type": "code",
   "source": [
    "_dir = @__DIR__\n",
    "if ~Base.isdir(\"$(_dir)/../results\")\n",
    "    Base.mkdir(\"$(_dir)/../results\")\n",
    "end\n",
    "open(\"$(_dir)/../results/exp-5.2.3-SIR_seed$(seed).dat\", \"w\") do io\n",
    "    Serialization.serialize(io, results)\n",
    "end"
   ],
   "metadata": {},
   "execution_count": null
  },
  {
   "cell_type": "markdown",
   "source": [
    "---\n",
    "\n",
    "*This notebook was generated using [Literate.jl](https://github.com/fredrikekre/Literate.jl).*"
   ],
   "metadata": {}
  }
 ],
 "nbformat_minor": 3,
 "metadata": {
  "language_info": {
   "file_extension": ".jl",
   "mimetype": "application/julia",
   "name": "julia",
   "version": "1.6.7"
  },
  "kernelspec": {
   "name": "julia-1.6",
   "display_name": "Julia 1.6.7",
   "language": "julia"
  }
 },
 "nbformat": 4
}
