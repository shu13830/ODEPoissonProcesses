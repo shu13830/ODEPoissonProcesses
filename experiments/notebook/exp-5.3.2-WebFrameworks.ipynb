{
 "cells": [
  {
   "cell_type": "markdown",
   "source": [
    "# ***Application 2: competition of JavaScript web frameworks***\n",
    "---"
   ],
   "metadata": {}
  },
  {
   "cell_type": "markdown",
   "source": [
    "Install packages"
   ],
   "metadata": {}
  },
  {
   "outputs": [],
   "cell_type": "code",
   "source": [
    "import Pkg\n",
    "Pkg.add(\"PythonPlot\")"
   ],
   "metadata": {},
   "execution_count": null
  },
  {
   "cell_type": "markdown",
   "source": [
    "Import packages"
   ],
   "metadata": {}
  },
  {
   "outputs": [],
   "cell_type": "code",
   "source": [
    "using ODEPoissonProcesses\n",
    "using CSV\n",
    "using DataFrames\n",
    "using Distributions\n",
    "using Random\n",
    "using Serialization\n",
    "using PythonPlot\n",
    "\n",
    "seed=1\n",
    "_dir = @__DIR__;\n",
    "if ~Base.isdir(\"$(_dir)/../results/img\")\n",
    "    Base.mkdir(\"$(_dir)/../results/img\");\n",
    "end;"
   ],
   "metadata": {},
   "execution_count": null
  },
  {
   "cell_type": "markdown",
   "source": [
    "## ***1. Data preparation***"
   ],
   "metadata": {}
  },
  {
   "outputs": [],
   "cell_type": "code",
   "source": [
    "# Load data\n",
    "df = CSV.read(\"$(_dir)/../data/jsframeworks.csv\", header=3, DataFrame);\n",
    "rename!(df, [\"Month\", \"Angular\", \"jQuery\", \"React\", \"Vue.js\"]);\n",
    "\n",
    "# preprocess values\n",
    "# truncate values smaller than 1 to 0\n",
    "@show last(df, 5);\n",
    "for i in 2:size(df)[2]\n",
    "    parsed = df[!, \"$(names(df)[i])\"] .|> x -> tryparse(Int, x)\n",
    "    truncated = parsed .|> x -> x==nothing ? 0 : x\n",
    "    df[!, \"$(names(df)[i])\"] = truncated\n",
    "end\n",
    "@show last(df, 5);\n",
    "\n",
    "# preprocess date info.\n",
    "# convert Date to float\n",
    "dates = df[!, 1]\n",
    "decimaldates = ODEPoissonProcesses.decimaldate.(dates)\n",
    "df[!, 1] = decimaldates\n",
    "@show last(df, 5);"
   ],
   "metadata": {},
   "execution_count": null
  },
  {
   "cell_type": "markdown",
   "source": [
    "### ***Plot data***"
   ],
   "metadata": {}
  },
  {
   "outputs": [],
   "cell_type": "code",
   "source": [
    "time_points = df[!, 1]\n",
    "framework_names = [\"jQuery\", \"Angular\", \"React\", \"Vue.js\"]\n",
    "cm = PythonPlot.pyplot.colormaps[\"tab10\"]\n",
    "values = Dict(i => df[!, name] for (i, name) in enumerate(framework_names))\n",
    "\n",
    "ls = [\"dotted\", \"solid\", \"dashed\", \"dashdot\"] #line_style\n",
    "_colors = [cm.colors[0], cm.colors[3], cm.colors[9], cm.colors[2]]\n",
    "fig, ax = PythonPlot.pyplot.subplots(figsize=(8,3.5))\n",
    "[ax.plot(time_points, values[i], lw=2, ls=ls, label=name, c=c) for (i, (ls, c, name)) in enumerate(zip(ls,_colors,framework_names))]\n",
    "ax.legend(loc=\"upper left\", handlelength=2, prop=Dict(\"family\"=>\"Times\", \"size\"=>20), frameon=false)\n",
    "ax.set_xticks([2005, 2010, 2015, 2020])\n",
    "ax.set_xticklabels([2005, 2010, 2015, 2020], font=\"Times\", fontsize=18)\n",
    "ax.set_yticks([0, 20, 40, 60, 80, 100])\n",
    "ax.set_yticklabels([0, 20, 40, 60, 80, 100], font=\"Times\", fontsize=18)\n",
    "ax.set_xlabel(\"Year\", fontsize=24, font=\"Times\")\n",
    "ax.set_ylabel(\"Interest\", fontsize=24, font=\"Times\")\n",
    "ax.spines[\"top\"].set_visible(false)\n",
    "ax.spines[\"right\"].set_visible(false)\n",
    "PythonPlot.tight_layout()\n",
    "\n",
    "# Save figure\n",
    "PythonPlot.savefig(\"$(_dir)/../results/img/data_jsframeworks.pdf\", dpi=300)\n",
    "PythonPlot.pyplot.show();"
   ],
   "metadata": {},
   "execution_count": null
  },
  {
   "cell_type": "markdown",
   "source": [
    "## ***2. Define models***"
   ],
   "metadata": {}
  },
  {
   "outputs": [],
   "cell_type": "code",
   "source": [
    "times = Dict(i => vcat([fill(t, count) for (count, t) in zip(values[i], time_points)]...) for i in 1:length(values))\n",
    "classes = Dict(i=>name for (i, name) in enumerate(framework_names));\n",
    "U = 21  # number of inducing points\n",
    "T = 100  # number of observation points\n",
    "base_kernel = :RBF\n",
    "ϕ = [5.0, 0.15, 0.1]\n",
    "γ = 0.1\n",
    "\n",
    "# ODE guided Poisson process with LGCP-based Gradient Matching\n",
    "odepois = CompetitionPoissonProcess(\n",
    "    times, classes; U=U, T=T, γ=γ,\n",
    "    base_kernel=base_kernel, ascale=ϕ[1], lscale=ϕ[2], δ=ϕ[3])"
   ],
   "metadata": {},
   "execution_count": null
  },
  {
   "cell_type": "markdown",
   "source": [
    "## ***3. Inference***\n",
    "MCMC iteration settings"
   ],
   "metadata": {}
  },
  {
   "outputs": [],
   "cell_type": "code",
   "source": [
    "n_burnin = 10000\n",
    "n_thinning = 20\n",
    "n_samples = 1000\n",
    "n_total_iter = n_burnin + n_thinning * n_samples;"
   ],
   "metadata": {},
   "execution_count": null
  },
  {
   "cell_type": "markdown",
   "source": [
    "Execute inference"
   ],
   "metadata": {}
  },
  {
   "outputs": [],
   "cell_type": "code",
   "source": [
    "Random.seed!(seed)\n",
    "chain_odepois = Chain(\n",
    "    odepois, n_burnin=n_burnin, n_thinning=n_thinning,\n",
    "    blocks=[HMCBlock(:y, L=5), HMCBlock(:x, L=5), HMCBlock(:θ, L=5)])\n",
    "chain_odepois = train!(odepois, n_total_iter, chain_odepois);"
   ],
   "metadata": {},
   "execution_count": null
  },
  {
   "cell_type": "markdown",
   "source": [
    "## ***4. Store results***"
   ],
   "metadata": {}
  },
  {
   "outputs": [],
   "cell_type": "code",
   "source": [
    "results =  Dict(\n",
    "    \"data\" => df,\n",
    "    \"odepois\" => (mod=odepois, chain=chain_odepois)\n",
    ")"
   ],
   "metadata": {},
   "execution_count": null
  },
  {
   "cell_type": "markdown",
   "source": [
    "## ***5. Save results***"
   ],
   "metadata": {}
  },
  {
   "outputs": [],
   "cell_type": "code",
   "source": [
    "_dir = @__DIR__\n",
    "if ~Base.isdir(\"$(_dir)/../results\")\n",
    "    Base.mkdir(\"$(_dir)/../results\")\n",
    "end\n",
    "open(\"$(_dir)/../results/exp-5.3.2-WebFrameworks_seed$(seed).dat\", \"w\") do io\n",
    "    Serialization.serialize(io, results)\n",
    "end"
   ],
   "metadata": {},
   "execution_count": null
  },
  {
   "cell_type": "markdown",
   "source": [
    "## ***6. Plot results***\n",
    "Calculate posterior mean of A (competitive coefficient matrix)"
   ],
   "metadata": {}
  },
  {
   "outputs": [],
   "cell_type": "code",
   "source": [
    "mod, chain = results[\"odepois\"].mod, results[\"odepois\"].chain\n",
    "C = mod.data.C\n",
    "samples = ODEPoissonProcesses.get_posterior_θ_samples(mod, chain);\n",
    "A_posterior_mean = ODEPoissonProcesses.competitive_coef_matrix(mean(samples)[2*C+1:end], C);\n",
    "A_posterior_mean = float.(A_posterior_mean);"
   ],
   "metadata": {},
   "execution_count": null
  },
  {
   "cell_type": "markdown",
   "source": [
    "Draw a hetmap"
   ],
   "metadata": {}
  },
  {
   "outputs": [],
   "cell_type": "code",
   "source": [
    "fig = PythonPlot.figure(layout=\"tight\", figsize=(4.5,4.5))\n",
    "PythonPlot.imshow(A_posterior_mean, cmap=\"gray_r\")\n",
    "ticks = [0, 1, 2, 3]\n",
    "PythonPlot.xticks(ticks, framework_names, font=\"Times\", fontsize=24, rotation=30)\n",
    "PythonPlot.yticks(ticks, framework_names, font=\"Times\", fontsize=24)\n",
    "fig.savefig(\"$(_dir)/../results/img/A_postmean_jsframeworks.pdf\", dpi=300)\n",
    "fig.show();"
   ],
   "metadata": {},
   "execution_count": null
  },
  {
   "cell_type": "markdown",
   "source": [
    "---\n",
    "\n",
    "*This notebook was generated using [Literate.jl](https://github.com/fredrikekre/Literate.jl).*"
   ],
   "metadata": {}
  }
 ],
 "nbformat_minor": 3,
 "metadata": {
  "language_info": {
   "file_extension": ".jl",
   "mimetype": "application/julia",
   "name": "julia",
   "version": "1.6.7"
  },
  "kernelspec": {
   "name": "julia-1.6",
   "display_name": "Julia 1.6.7",
   "language": "julia"
  }
 },
 "nbformat": 4
}
