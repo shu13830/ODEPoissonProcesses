{
 "cells": [
  {
   "cell_type": "markdown",
   "source": [
    "# ***Modeling with Non-available components with SIR Model***\n",
    "---"
   ],
   "metadata": {}
  },
  {
   "outputs": [],
   "cell_type": "code",
   "source": [
    "using LGCPGradientMatching\n",
    "using Plots\n",
    "using Random\n",
    "using Serialization"
   ],
   "metadata": {},
   "execution_count": null
  },
  {
   "cell_type": "markdown",
   "source": [
    "## ***1. Simulate event data***"
   ],
   "metadata": {}
  },
  {
   "outputs": [],
   "cell_type": "code",
   "source": [
    "seed = 1\n",
    "λ0 = 1000.\n",
    "dat = sim_SIR_event_data(seed=seed, λ0=λ0);\n",
    "\n",
    "# plot simulated data\n",
    "plot(size=(800,200), legend=:outerleft)\n",
    "scatter!(dat.times[1], zeros(length(dat.times[1])) .+ 2, m=:vline, label=\"S\")\n",
    "scatter!(dat.times[2], zeros(length(dat.times[2])) .+ 1, m=:vline, label=\"I\")\n",
    "scatter!(dat.times[3], zeros(length(dat.times[3])), m=:vline, label=\"R\")\n",
    "ylims!(-1,3)"
   ],
   "metadata": {},
   "execution_count": null
  },
  {
   "cell_type": "markdown",
   "source": [
    "## ***2. Define models***"
   ],
   "metadata": {}
  },
  {
   "outputs": [],
   "cell_type": "code",
   "source": [
    "times = Dict(1=>dat.times[1], 2=>dat.times[2], 3=>dat.times[3])\n",
    "classes = Dict(1=>\"S\", 2=>\"I\", 3=>\"R\")\n",
    "U = 21  # number of inducing points\n",
    "T = 100  # number of observation points\n",
    "base_kernel = :RBF\n",
    "ϕ = [5.0, 0.15, 0.1]\n",
    "γ = 0.1\n",
    "\n",
    "# ODE guided Cox process with LGCP-based Gradient Matching\n",
    "# NOTE: S, I and R can be observed\n",
    "sir_cox = SIRCoxProcess(\n",
    "    times, classes; λ0=λ0, U=U, T=T, γ=γ,\n",
    "    base_kernel=base_kernel, ascale=ϕ[1], lscale=ϕ[2], δ=ϕ[3])\n",
    "# NOTE: Only I can be observed\n",
    "i_cox = InfectedCoxProcess(\n",
    "    times[2], λ0=λ0, from_to=(0., 1.), U=U, T=T, γ=γ,\n",
    "    base_kernel=base_kernel, ascale=ϕ[1], lscale=ϕ[2], δ=ϕ[3]);"
   ],
   "metadata": {},
   "execution_count": null
  },
  {
   "cell_type": "markdown",
   "source": [
    "## ***3. Inference***\n",
    "MCMC iteration settings"
   ],
   "metadata": {}
  },
  {
   "outputs": [],
   "cell_type": "code",
   "source": [
    "n_burnin = 10000\n",
    "n_thinning = 20\n",
    "n_samples = 1000\n",
    "n_total_iter = n_burnin + n_thinning * n_samples;"
   ],
   "metadata": {},
   "execution_count": null
  },
  {
   "cell_type": "markdown",
   "source": [
    "Execute inference"
   ],
   "metadata": {}
  },
  {
   "outputs": [],
   "cell_type": "code",
   "source": [
    "Random.seed!(seed)\n",
    "chain_sir = Chain(\n",
    "    sir_cox, n_burnin=n_burnin, n_thinning=n_thinning,\n",
    "    blocks=[HMCBlock(:y, L=10), HMCBlock(:x, L=10), HMCBlock(:θ, L=10)])\n",
    "chain_sir = train!(sir_cox, n_total_iter, chain_sir)\n",
    "\n",
    "Random.seed!(seed)\n",
    "chain_i = Chain(\n",
    "    i_cox, n_burnin=n_burnin, n_thinning=n_thinning,\n",
    "    blocks=[HMCBlock(:y, L=10), HMCBlock(:x, L=10), HMCBlock(:xθ, L=10), HMCBlock(:θ, L=10)])\n",
    "chain_i = train!(i_cox, n_total_iter, chain_i);"
   ],
   "metadata": {},
   "execution_count": null
  },
  {
   "cell_type": "markdown",
   "source": [
    "## ***4. Store results***"
   ],
   "metadata": {}
  },
  {
   "outputs": [],
   "cell_type": "code",
   "source": [
    "results =  Dict(\n",
    "    \"data\" => dat,\n",
    "    \"sir_cox\" => (mod=sir_cox, chain=chain_sir),\n",
    "    \"i_cox\" => (mod=i_cox, chain=chain_i)\n",
    ");"
   ],
   "metadata": {},
   "execution_count": null
  },
  {
   "cell_type": "markdown",
   "source": [
    "## ***5. Save results***"
   ],
   "metadata": {}
  },
  {
   "outputs": [],
   "cell_type": "code",
   "source": [
    "_dir = @__DIR__\n",
    "if ~Base.isdir(\"$(_dir)/../results\")\n",
    "    Base.mkdir(\"$(_dir)/../results\")\n",
    "end\n",
    "open(\"$(_dir)/../results/exp-5.2.4-Infected_seed$(seed).dat\", \"w\") do io\n",
    "    Serialization.serialize(io, results)\n",
    "end"
   ],
   "metadata": {},
   "execution_count": null
  },
  {
   "cell_type": "markdown",
   "source": [
    "---\n",
    "\n",
    "*This notebook was generated using [Literate.jl](https://github.com/fredrikekre/Literate.jl).*"
   ],
   "metadata": {}
  }
 ],
 "nbformat_minor": 3,
 "metadata": {
  "language_info": {
   "file_extension": ".jl",
   "mimetype": "application/julia",
   "name": "julia",
   "version": "1.6.7"
  },
  "kernelspec": {
   "name": "julia-1.6",
   "display_name": "Julia 1.6.7",
   "language": "julia"
  }
 },
 "nbformat": 4
}
