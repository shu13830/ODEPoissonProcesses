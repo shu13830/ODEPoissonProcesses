{
 "cells": [
  {
   "cell_type": "markdown",
   "source": [
    "# ***Evaluation of Extrapolation***"
   ],
   "metadata": {}
  },
  {
   "cell_type": "markdown",
   "source": [
    "Import packages"
   ],
   "metadata": {}
  },
  {
   "outputs": [],
   "cell_type": "code",
   "source": [
    "using ODEPoissonProcesses\n",
    "\n",
    "using DataFrames\n",
    "using Distributions\n",
    "using Serialization\n",
    "using Random\n",
    "using Serialization\n",
    "using Plots\n",
    "using Plots.PlotMeasures\n",
    "using Printf\n",
    "using StatsPlots\n",
    "using StatsBase\n",
    "using LaTeXStrings\n",
    "\n",
    "seed = 1\n",
    "_dir = @__DIR__;\n",
    "if ~Base.isdir(\"$(_dir)/../results/img\")\n",
    "    Base.mkdir(\"$(_dir)/../results/img\")\n",
    "end"
   ],
   "metadata": {},
   "execution_count": null
  },
  {
   "cell_type": "markdown",
   "source": [
    "## ***1. SIR***\n",
    "load simulated data and results"
   ],
   "metadata": {}
  },
  {
   "outputs": [],
   "cell_type": "code",
   "source": [
    "open(\"$(_dir)/../results/exp-5.2.3-SIR_seed$(seed).dat\") do io\n",
    "    global results = Serialization.deserialize(io)\n",
    "end;"
   ],
   "metadata": {},
   "execution_count": null
  },
  {
   "cell_type": "markdown",
   "source": [
    "Evaluate negative log-likelihoods"
   ],
   "metadata": {}
  },
  {
   "outputs": [],
   "cell_type": "code",
   "source": [
    "λ0s = [50.0, 100.0, 1000.0]\n",
    "model_names = [\"cox\", \"odepois\"];\n",
    "\n",
    "nll_means = Dict(name => Dict() for name in model_names)\n",
    "nll_stds = Dict(name => Dict() for name in model_names)\n",
    "\n",
    "for λ0 in λ0s\n",
    "    res = results[λ0]\n",
    "    data = res[\"data\"]\n",
    "\n",
    "    M′_samples = ODEPoissonProcesses.sim_extrapolation_eventcounts(data, res[model_names[1]].mod; n_simulations=100);\n",
    "\n",
    "    for name in model_names\n",
    "        mod, chain = res[name].mod, res[name].chain;\n",
    "        X̂_samples = ODEPoissonProcesses.get_posterior_X̂_samples(mod, chain);\n",
    "        X̂′_samples = [X̂[mod.gm.T+1:end, :] for X̂ in X̂_samples]\n",
    "\n",
    "        nlls = []\n",
    "        for M′ in M′_samples, X̂′ in X̂′_samples\n",
    "            Λ̂′ = (mod.gm.λ0/mod.gm.T)' .* exp.(X̂′)\n",
    "            nll=0\n",
    "            for (m′, λ′) in zip(M′, Λ̂′)\n",
    "                nll += -logpdf(Poisson(λ′), m′)\n",
    "            end\n",
    "            push!(nlls, sum(nll))\n",
    "        end\n",
    "\n",
    "        nll_means[name][λ0] = mean(nlls)\n",
    "        nll_stds[name][λ0] = std(nlls)\n",
    "    end\n",
    "end"
   ],
   "metadata": {},
   "execution_count": null
  },
  {
   "cell_type": "markdown",
   "source": [
    "DataFrame of evaluated negative log-likelihoods"
   ],
   "metadata": {}
  },
  {
   "outputs": [],
   "cell_type": "code",
   "source": [
    "df_nlls = DataFrame(\"Scheme\" => model_names)\n",
    "for λ0 in λ0s\n",
    "    df_nlls[!, \"λ0=$(λ0)\"] = [@sprintf(\"%0.1f\", nll_means[name][λ0])*\" ± \"*@sprintf(\"%0.1f\", nll_stds[name][λ0]) for name in model_names]\n",
    "end\n",
    "df_nlls"
   ],
   "metadata": {},
   "execution_count": null
  },
  {
   "cell_type": "markdown",
   "source": [
    "Compare ground-truth and estimated modulations"
   ],
   "metadata": {}
  },
  {
   "outputs": [],
   "cell_type": "code",
   "source": [
    "ode_figs = []\n",
    "event_figs = []\n",
    "titles = [L\"\\lambda_0=50\", L\"\\lambda_0=100\", L\"\\lambda_0=1000\"]\n",
    "for (i, λ0) in enumerate(λ0s)\n",
    "    data = results[λ0][\"data\"]\n",
    "    push!(event_figs, ODEPoissonProcesses.eventplot(data, title=titles[i], alpha=0.75, xlims=(0, 1.5)))\n",
    "    for name in model_names\n",
    "        res = results[λ0]\n",
    "        mod, chain = res[name].mod, res[name].chain\n",
    "        X̂_samples = ODEPoissonProcesses.get_posterior_X̂_samples(mod, chain);\n",
    "        X̂s = cat(X̂_samples..., dims=3);\n",
    "        Zs = exp.(X̂s)\n",
    "        fig = ODEPoissonProcesses.draw_gt_and_est_ode(data, mod, Zs, qlow=0.125, qhigh=0.875)\n",
    "        push!(ode_figs, fig)\n",
    "    end\n",
    "end\n",
    "\n",
    "p_annotate = plot(\n",
    "    (plot(ticks=:none, axis=false); annotate!(0.5, 0.5, Plots.text(\"synthesized\\nevents\", \"Times\", 12))),\n",
    "    (plot(ticks=:none, axis=false); annotate!(0.5, 0.5, Plots.text(\"LGCP\", \"Times\", 12))),\n",
    "    (plot(ticks=:none, axis=false); annotate!(0.5, 0.5, Plots.text(\"LGCP-GM\\n(ours)\", \"Times\", 12))),\n",
    "    layout=Plots.grid(3,1, heights=[0.19, 0.4, 0.41]),\n",
    "    size=(100, 280)\n",
    "    )\n",
    "\n",
    "p = plot(\n",
    "    event_figs[1], event_figs[2], event_figs[3],\n",
    "\n",
    "    (plot(ode_figs[1]; xtick=:none, ylims=(0, 10), ylabel=\"exp(x)\")),\n",
    "    (plot(ode_figs[3]; ticks=:none, ylims=(0, 10))),\n",
    "    (plot(ode_figs[5]; ticks=:none, ylims=(0, 10))),\n",
    "\n",
    "    (plot(ode_figs[2]; xtick=[0.0,0.5,1.0,1.5], ylims=(0, 10), ylabel=\"exp(x)\")),\n",
    "    (plot(ode_figs[4]; xtick=[0.0,0.5,1.0,1.5], ylims=(0, 10), ytick=:none, xlabel=\"time\")),\n",
    "    (plot(ode_figs[6]; xtick=[0.0,0.5,1.0,1.5], ylims=(0, 10), ytick=:none)),\n",
    "\n",
    "    guidefontfamily=\"Times\",\n",
    "    tickfontfamily=\"Times\",\n",
    "    titlefontsize=12,\n",
    "    tickfontsize=9,\n",
    "    grid=:none,\n",
    "    legend=:none,\n",
    "    labelfontsize=12,\n",
    "    topmargin=0mm,\n",
    "    leftmargin=0mm,\n",
    "    bottommargin=2mm,\n",
    "    layout=Plots.grid(3,3, heights=[0.19, 0.4, 0.41], widths=[0.34, 0.33, 0.33]),\n",
    "    size=(800, 350)\n",
    ")\n",
    "\n",
    "plot(p_annotate, p, layout=Plots.grid(1,2, widths=[0.15, 0.85]))"
   ],
   "metadata": {},
   "execution_count": null
  },
  {
   "cell_type": "markdown",
   "source": [
    "Save figure"
   ],
   "metadata": {}
  },
  {
   "outputs": [],
   "cell_type": "code",
   "source": [
    "Plots.png(plot(p, dpi=200), \"$(_dir)/../results/img/exp-5.2.3-SIR_seed$(seed).png\");"
   ],
   "metadata": {},
   "execution_count": null
  },
  {
   "cell_type": "markdown",
   "source": [
    "## ***2. Predator-Prey***\n",
    "load simulated data and results"
   ],
   "metadata": {}
  },
  {
   "outputs": [],
   "cell_type": "code",
   "source": [
    "open(\"$(_dir)/../results/exp-5.2.3-PredatorPrey_seed$(seed).dat\") do io\n",
    "    global results = Serialization.deserialize(io)\n",
    "end;"
   ],
   "metadata": {},
   "execution_count": null
  },
  {
   "cell_type": "markdown",
   "source": [
    "Evaluate negative log-likelihoods"
   ],
   "metadata": {}
  },
  {
   "outputs": [],
   "cell_type": "code",
   "source": [
    "λ0s = [50.0, 100.0, 1000.0]\n",
    "model_names = [\"cox\", \"odepois\"];\n",
    "\n",
    "nll_means = Dict(name => Dict() for name in model_names)\n",
    "nll_stds = Dict(name => Dict() for name in model_names)\n",
    "\n",
    "for λ0 in λ0s\n",
    "    res = results[λ0]\n",
    "    data = res[\"data\"]\n",
    "\n",
    "    M′_samples = ODEPoissonProcesses.sim_extrapolation_eventcounts(data, res[model_names[1]].mod; n_simulations=100);\n",
    "\n",
    "    for name in model_names\n",
    "        mod, chain = res[name].mod, res[name].chain;\n",
    "        X̂_samples = ODEPoissonProcesses.get_posterior_X̂_samples(mod, chain);\n",
    "        X̂′_samples = [X̂[mod.gm.T+1:end, :] for X̂ in X̂_samples]\n",
    "\n",
    "        nlls = []\n",
    "        for M′ in M′_samples, X̂′ in X̂′_samples\n",
    "            Λ̂′ = (mod.gm.λ0/mod.gm.T)' .* exp.(X̂′)\n",
    "            nll=0\n",
    "            for (m′, λ′) in zip(M′, Λ̂′)\n",
    "                nll += -logpdf(Poisson(λ′), m′)\n",
    "            end\n",
    "            push!(nlls, sum(nll))\n",
    "        end\n",
    "\n",
    "        nll_means[name][λ0] = mean(nlls)\n",
    "        nll_stds[name][λ0] = std(nlls)\n",
    "    end\n",
    "end"
   ],
   "metadata": {},
   "execution_count": null
  },
  {
   "cell_type": "markdown",
   "source": [
    "DataFrame of evaluated negative log-likelihoods"
   ],
   "metadata": {}
  },
  {
   "outputs": [],
   "cell_type": "code",
   "source": [
    "df_nlls = DataFrame(\"Scheme\" => model_names)\n",
    "for λ0 in λ0s\n",
    "    df_nlls[!, \"λ0=$(λ0)\"] = [@sprintf(\"%0.1f\", nll_means[name][λ0])*\" ± \"*@sprintf(\"%0.1f\", nll_stds[name][λ0]) for name in model_names]\n",
    "end\n",
    "df_nlls"
   ],
   "metadata": {},
   "execution_count": null
  },
  {
   "cell_type": "markdown",
   "source": [
    "Compare ground-truth and estimated modulations"
   ],
   "metadata": {}
  },
  {
   "outputs": [],
   "cell_type": "code",
   "source": [
    "ode_figs = []\n",
    "event_figs = []\n",
    "titles = [L\"\\lambda_0=50\", L\"\\lambda_0=100\", L\"\\lambda_0=1000\"]\n",
    "for (i, λ0) in enumerate(λ0s)\n",
    "    data = results[λ0][\"data\"]\n",
    "    push!(event_figs, ODEPoissonProcesses.eventplot(data, title=titles[i], alpha=0.75, xlims=(0, 1.5)))\n",
    "    for name in model_names\n",
    "        res = results[λ0]\n",
    "        mod, chain = res[name].mod, res[name].chain\n",
    "        X̂_samples = ODEPoissonProcesses.get_posterior_X̂_samples(mod, chain);\n",
    "        X̂s = cat(X̂_samples..., dims=3);\n",
    "        Zs = exp.(X̂s)\n",
    "        fig = ODEPoissonProcesses.draw_gt_and_est_ode(data, mod, Zs, qlow=0.125, qhigh=0.875)\n",
    "        push!(ode_figs, fig)\n",
    "    end\n",
    "end\n",
    "\n",
    "p_annotate = plot(\n",
    "    (plot(ticks=:none, axis=false); annotate!(0.5, 0.5, Plots.text(\"synthesized\\nevents\", \"Times\", 12))),\n",
    "    (plot(ticks=:none, axis=false); annotate!(0.5, 0.5, Plots.text(\"LGCP\", \"Times\", 12))),\n",
    "    (plot(ticks=:none, axis=false); annotate!(0.5, 0.5, Plots.text(\"LGCP-GM\\n(ours)\", \"Times\", 12))),\n",
    "    layout=Plots.grid(3,1, heights=[0.19, 0.4, 0.41]),\n",
    "    size=(100, 280)\n",
    "    )\n",
    "\n",
    "p = plot(\n",
    "    event_figs[1], event_figs[2], event_figs[3],\n",
    "\n",
    "    (plot(ode_figs[1]; xtick=:none, ylims=(0, 5), ylabel=\"exp(x)\")),\n",
    "    (plot(ode_figs[3]; ticks=:none, ylims=(0, 5))),\n",
    "    (plot(ode_figs[5]; ticks=:none, ylims=(0, 5))),\n",
    "\n",
    "    (plot(ode_figs[2]; xtick=[0.0,0.5,1.0,1.5], ylims=(0, 5), ylabel=\"exp(x)\")),\n",
    "    (plot(ode_figs[4]; xtick=[0.0,0.5,1.0,1.5], ylims=(0, 5), ytick=:none, xlabel=\"time\")),\n",
    "    (plot(ode_figs[6]; xtick=[0.0,0.5,1.0,1.5], ylims=(0, 5), ytick=:none)),\n",
    "\n",
    "    guidefontfamily=\"Times\",\n",
    "    tickfontfamily=\"Times\",\n",
    "    titlefontsize=12,\n",
    "    tickfontsize=9,\n",
    "    grid=:none,\n",
    "    legend=:none,\n",
    "    labelfontsize=12,\n",
    "    topmargin=0mm,\n",
    "    leftmargin=0mm,\n",
    "    bottommargin=2mm,\n",
    "    layout=Plots.grid(3,3, heights=[0.19, 0.4, 0.41], widths=[0.34, 0.33, 0.33]),\n",
    "    size=(800, 350)\n",
    ")\n",
    "\n",
    "plot(p_annotate, p, layout=Plots.grid(1,2, widths=[0.15, 0.85]))"
   ],
   "metadata": {},
   "execution_count": null
  },
  {
   "cell_type": "markdown",
   "source": [
    "Save figure"
   ],
   "metadata": {}
  },
  {
   "outputs": [],
   "cell_type": "code",
   "source": [
    "Plots.png(plot(p, dpi=200), \"$(_dir)/../results/img/exp-5.2.3-PredatorPrey_seed$(seed).png\");\n",
    "\n",
    "p = plot(\n",
    "    plot(event_figs[3], title=\"\"),\n",
    "\n",
    "    (plot(ode_figs[5]; xtick=:none, ylims=(0, 5), ylabel=\"exp(x)\")),\n",
    "\n",
    "    (plot(ode_figs[6]; xtick=[0.0,0.5,1.0,1.5], ylims=(0, 5), ylabel=\"exp(x)\", xlabel=\"time\")),\n",
    "\n",
    "    guidefontfamily=\"Times\",\n",
    "    tickfontfamily=\"Times\",\n",
    "    tickfontsize=10,\n",
    "    grid=:none,\n",
    "    legend=:none,\n",
    "    labelfontsize=14,\n",
    "    topmargin=0mm,\n",
    "    leftmargin=0mm,\n",
    "    bottommargin=4mm,\n",
    "    layout=Plots.grid(3,1, heights=[0.19, 0.4, 0.41]),\n",
    "    xlims=(0,1.5)\n",
    ")\n",
    "\n",
    "Plots.pdf(\n",
    "    plot(p_annotate, p, layout=Plots.grid(1,2, widths=[0.2, 0.8]), size=(700, 300)),\n",
    "    \"$(_dir)/../results/img/exp-5.2.3-extrapolation.pdf\");"
   ],
   "metadata": {},
   "execution_count": null
  },
  {
   "cell_type": "markdown",
   "source": [
    "## ***3. Competition***\n",
    "load simulated data and results"
   ],
   "metadata": {}
  },
  {
   "outputs": [],
   "cell_type": "code",
   "source": [
    "open(\"$(_dir)/../results/exp-5.2.3-Competition_seed$(seed).dat\") do io\n",
    "    global results = Serialization.deserialize(io)\n",
    "end;"
   ],
   "metadata": {},
   "execution_count": null
  },
  {
   "cell_type": "markdown",
   "source": [
    "Evaluate negative log-likelihoods"
   ],
   "metadata": {}
  },
  {
   "outputs": [],
   "cell_type": "code",
   "source": [
    "λ0s = [50.0, 100.0, 1000.0]\n",
    "model_names = [\"cox\", \"odepois\"];\n",
    "\n",
    "nll_means = Dict(name => Dict() for name in model_names)\n",
    "nll_stds = Dict(name => Dict() for name in model_names)\n",
    "\n",
    "for λ0 in λ0s\n",
    "    res = results[λ0]\n",
    "    data = res[\"data\"]\n",
    "\n",
    "    M′_samples = ODEPoissonProcesses.sim_extrapolation_eventcounts(data, res[model_names[1]].mod; n_simulations=100);\n",
    "\n",
    "    for name in model_names\n",
    "        mod, chain = res[name].mod, res[name].chain;\n",
    "        X̂_samples = ODEPoissonProcesses.get_posterior_X̂_samples(mod, chain);\n",
    "        X̂′_samples = [X̂[mod.gm.T+1:end, :] for X̂ in X̂_samples]\n",
    "\n",
    "        nlls = []\n",
    "        for M′ in M′_samples, X̂′ in X̂′_samples\n",
    "            Λ̂′ = (mod.gm.λ0/mod.gm.T)' .* exp.(X̂′)\n",
    "            nll=0\n",
    "            for (m′, λ′) in zip(M′, Λ̂′)\n",
    "                nll += -logpdf(Poisson(λ′), m′)\n",
    "            end\n",
    "            push!(nlls, sum(nll))\n",
    "        end\n",
    "\n",
    "        nll_means[name][λ0] = mean(nlls)\n",
    "        nll_stds[name][λ0] = std(nlls)\n",
    "    end\n",
    "end"
   ],
   "metadata": {},
   "execution_count": null
  },
  {
   "cell_type": "markdown",
   "source": [
    "DataFrame of evaluated negative log-likelihoods"
   ],
   "metadata": {}
  },
  {
   "outputs": [],
   "cell_type": "code",
   "source": [
    "df_nlls = DataFrame(\"Scheme\" => model_names)\n",
    "for λ0 in λ0s\n",
    "    df_nlls[!, \"λ0=$(λ0)\"] = [@sprintf(\"%0.1f\", nll_means[name][λ0])*\" ± \"*@sprintf(\"%0.1f\", nll_stds[name][λ0]) for name in model_names]\n",
    "end\n",
    "df_nlls"
   ],
   "metadata": {},
   "execution_count": null
  },
  {
   "cell_type": "markdown",
   "source": [
    "Compare ground-truth and estimated modulations"
   ],
   "metadata": {}
  },
  {
   "outputs": [],
   "cell_type": "code",
   "source": [
    "ode_figs = []\n",
    "event_figs = []\n",
    "titles = [L\"\\lambda_0=50\", L\"\\lambda_0=100\", L\"\\lambda_0=1000\"]\n",
    "for (i, λ0) in enumerate(λ0s)\n",
    "    data = results[λ0][\"data\"]\n",
    "    push!(event_figs, ODEPoissonProcesses.eventplot(data, title=titles[i], alpha=0.75, xlims=(0, 1.5)))\n",
    "    for name in model_names\n",
    "        res = results[λ0]\n",
    "        mod, chain = res[name].mod, res[name].chain\n",
    "        X̂_samples = ODEPoissonProcesses.get_posterior_X̂_samples(mod, chain);\n",
    "        X̂s = cat(X̂_samples..., dims=3);\n",
    "        Zs = exp.(X̂s)\n",
    "        fig = ODEPoissonProcesses.draw_gt_and_est_ode(data, mod, Zs, qlow=0.125, qhigh=0.875)\n",
    "        push!(ode_figs, fig)\n",
    "    end\n",
    "end\n",
    "\n",
    "p_annotate = plot(\n",
    "    (plot(ticks=:none, axis=false); annotate!(0.5, 0.5, Plots.text(\"synthesized\\nevents\", \"Times\", 12))),\n",
    "    (plot(ticks=:none, axis=false); annotate!(0.5, 0.5, Plots.text(\"LGCP\", \"Times\", 12))),\n",
    "    (plot(ticks=:none, axis=false); annotate!(0.5, 0.5, Plots.text(\"LGCP-GM\\n(ours)\", \"Times\", 12))),\n",
    "    layout=Plots.grid(3,1, heights=[0.19, 0.4, 0.41]),\n",
    "    size=(100, 280)\n",
    "    )\n",
    "\n",
    "p = plot(\n",
    "    event_figs[1], event_figs[2], event_figs[3],\n",
    "\n",
    "    (plot(ode_figs[1]; xtick=:none, ylims=(0, 8), ylabel=\"exp(x)\")),\n",
    "    (plot(ode_figs[3]; ticks=:none, ylims=(0, 8))),\n",
    "    (plot(ode_figs[5]; ticks=:none, ylims=(0, 8))),\n",
    "\n",
    "    (plot(ode_figs[2]; xtick=[0.0,0.5,1.0,1.5], ylims=(0, 8), ylabel=\"exp(x)\")),\n",
    "    (plot(ode_figs[4]; xtick=[0.0,0.5,1.0,1.5], ylims=(0, 8), ytick=:none, xlabel=\"time\")),\n",
    "    (plot(ode_figs[6]; xtick=[0.0,0.5,1.0,1.5], ylims=(0, 8), ytick=:none)),\n",
    "\n",
    "    guidefontfamily=\"Times\",\n",
    "    tickfontfamily=\"Times\",\n",
    "    titlefontsize=12,\n",
    "    tickfontsize=9,\n",
    "    grid=:none,\n",
    "    legend=:none,\n",
    "    labelfontsize=12,\n",
    "    topmargin=0mm,\n",
    "    leftmargin=0mm,\n",
    "    bottommargin=2mm,\n",
    "    layout=Plots.grid(3,3, heights=[0.19, 0.4, 0.41], widths=[0.34, 0.33, 0.33]),\n",
    "    size=(800, 350)\n",
    ")\n",
    "\n",
    "plot(p_annotate, p, layout=Plots.grid(1,2, widths=[0.15, 0.85]))"
   ],
   "metadata": {},
   "execution_count": null
  },
  {
   "cell_type": "markdown",
   "source": [
    "Save figure"
   ],
   "metadata": {}
  },
  {
   "outputs": [],
   "cell_type": "code",
   "source": [
    "Plots.png(plot(p, dpi=200), \"$(_dir)/../results/img/exp-5.2.3-Competition_seed$(seed).png\");"
   ],
   "metadata": {},
   "execution_count": null
  },
  {
   "cell_type": "markdown",
   "source": [
    "---\n",
    "\n",
    "*This notebook was generated using [Literate.jl](https://github.com/fredrikekre/Literate.jl).*"
   ],
   "metadata": {}
  }
 ],
 "nbformat_minor": 3,
 "metadata": {
  "language_info": {
   "file_extension": ".jl",
   "mimetype": "application/julia",
   "name": "julia",
   "version": "1.6.7"
  },
  "kernelspec": {
   "name": "julia-1.6",
   "display_name": "Julia 1.6.7",
   "language": "julia"
  }
 },
 "nbformat": 4
}
