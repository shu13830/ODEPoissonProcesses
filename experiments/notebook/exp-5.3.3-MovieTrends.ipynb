{
 "cells": [
  {
   "cell_type": "markdown",
   "source": [
    "# ***Application 3: MovieTrends***\n",
    "---"
   ],
   "metadata": {}
  },
  {
   "cell_type": "markdown",
   "source": [
    "Import packages"
   ],
   "metadata": {}
  },
  {
   "outputs": [],
   "cell_type": "code",
   "source": [
    "using LGCPGradientMatching\n",
    "using JSON\n",
    "using DataFrames\n",
    "using Distributions\n",
    "using Random\n",
    "using Serialization\n",
    "using Plots\n",
    "using Plots.PlotMeasures\n",
    "using Printf\n",
    "\n",
    "seed=1\n",
    "_dir = @__DIR__;\n",
    "if ~Base.isdir(\"$(_dir)/../results/img\")\n",
    "    Base.mkdir(\"$(_dir)/../results/img\");\n",
    "end;"
   ],
   "metadata": {},
   "execution_count": null
  },
  {
   "cell_type": "markdown",
   "source": [
    "## ***1. Data preparation***"
   ],
   "metadata": {}
  },
  {
   "outputs": [],
   "cell_type": "code",
   "source": [
    "# Load data\n",
    "tweets = JSON.parsefile(\"$(_dir)/../data/tweets.json\");\n",
    "keys(tweets)"
   ],
   "metadata": {},
   "execution_count": null
  },
  {
   "cell_type": "markdown",
   "source": [
    "### ***Plot data***"
   ],
   "metadata": {}
  },
  {
   "outputs": [],
   "cell_type": "code",
   "source": [
    "times_minions = float.(tweets[\"minions\"])\n",
    "times_avengers = float.(tweets[\"avengers_end_game\"])\n",
    "p = Plots.plot(\n",
    "        Plots.histogram(\n",
    "            times_minions, bins=90,\n",
    "            title=\"Minions \\\\(2015\\\\)\", label=:none,\n",
    "            ylabel=\"# of tweets/day\", ylims=(0, 25),\n",
    "            xlabel=\"day\",\n",
    "            xlims=(-30, 90),\n",
    "            xticks=([-30, 0, 30, 60, 90], [0, 30, 60, 90, 120])\n",
    "        ),\n",
    "        Plots.histogram(\n",
    "            times_avengers, bins=90,\n",
    "            title=\"Avengers: End Game \\\\(2019\\\\)\", label=:none,\n",
    "            ylims=(0, 175),\n",
    "            xlabel=\"day\",\n",
    "            xlims=(-30, 90),\n",
    "            xticks=([-30, 0, 30, 60, 90], [0, 30, 60, 90, 120])\n",
    "        ),\n",
    "        fontfamily=\"Times\",\n",
    "        labelfontsize=12,\n",
    "        tickfontsize=10,\n",
    "        titlefontsize=12,\n",
    "        linewidth=0.3,\n",
    "        linecolor=Gray(0.4),\n",
    "        fillcolor=Gray(0.4),\n",
    "        size=(750,200),\n",
    "        leftmargin=4mm,\n",
    "        bottommargin=5mm\n",
    "    )\n",
    "\n",
    "# Save figure\n",
    "Plots.pdf(p, \"$(_dir)/../results/img/data_movietweets.pdf\");\n",
    "\n",
    "p"
   ],
   "metadata": {},
   "execution_count": null
  },
  {
   "cell_type": "markdown",
   "source": [
    "## ***2. Define models***"
   ],
   "metadata": {}
  },
  {
   "outputs": [],
   "cell_type": "code",
   "source": [
    "U = 21  # number of inducing points\n",
    "T = 100  # number of observation points\n",
    "base_kernel = :RBF\n",
    "ϕ = [5.0, 0.15, 0.1]\n",
    "γ = 0.1\n",
    "\n",
    "# ODE guided Cox process with LGCP-based Gradient Matching\n",
    "# NOTE: Only I can be observed in SIR model\n",
    "i_cox_minions = InfectedCoxProcess(\n",
    "    times_minions, λ0=float(length(times_minions)), from_to=(-30., 90.), U=U, T=T, γ=γ,\n",
    "    base_kernel=base_kernel, ascale=ϕ[1], lscale=ϕ[2], δ=ϕ[3])\n",
    "i_cox_avengers = InfectedCoxProcess(\n",
    "    times_avengers, λ0=float(length(times_avengers)), from_to=(-30., 90.), U=U, T=T, γ=γ,\n",
    "    base_kernel=base_kernel, ascale=ϕ[1], lscale=ϕ[2], δ=ϕ[3])"
   ],
   "metadata": {},
   "execution_count": null
  },
  {
   "cell_type": "markdown",
   "source": [
    "## ***3. Inference***\n",
    "MCMC iteration settings"
   ],
   "metadata": {}
  },
  {
   "outputs": [],
   "cell_type": "code",
   "source": [
    "n_burnin = 10000\n",
    "n_thinning = 20\n",
    "n_samples = 1000\n",
    "n_total_iter = n_burnin + n_thinning * n_samples;"
   ],
   "metadata": {},
   "execution_count": null
  },
  {
   "cell_type": "markdown",
   "source": [
    "Execute inference"
   ],
   "metadata": {}
  },
  {
   "outputs": [],
   "cell_type": "code",
   "source": [
    "Random.seed!(seed)\n",
    "chain_minions = Chain(\n",
    "    i_cox_minions, n_burnin=n_burnin, n_thinning=n_thinning,\n",
    "    blocks=[HMCBlock(:y, L=5), HMCBlock(:x, L=5), HMCBlock(:θ, L=5)])\n",
    "chain_minions = train!(i_cox_minions, n_total_iter, chain_minions);\n",
    "\n",
    "chain_avengers = Chain(\n",
    "    i_cox_avengers, n_burnin=n_burnin, n_thinning=n_thinning,\n",
    "    blocks=[HMCBlock(:y, L=5), HMCBlock(:x, L=5), HMCBlock(:θ, L=5)])\n",
    "chain_avengers = train!(i_cox_avengers, n_total_iter, chain_avengers);"
   ],
   "metadata": {},
   "execution_count": null
  },
  {
   "cell_type": "markdown",
   "source": [
    "## ***4. Store results***"
   ],
   "metadata": {}
  },
  {
   "outputs": [],
   "cell_type": "code",
   "source": [
    "results =  Dict(\n",
    "    \"data\" => tweets,\n",
    "    \"odecox_minions\" => (mod=i_cox_minions, chain=chain_minions),\n",
    "    \"odecox_avengers\" => (mod=i_cox_avengers, chain=chain_avengers)\n",
    ")"
   ],
   "metadata": {},
   "execution_count": null
  },
  {
   "cell_type": "markdown",
   "source": [
    "## ***5. Save results***"
   ],
   "metadata": {}
  },
  {
   "outputs": [],
   "cell_type": "code",
   "source": [
    "_dir = @__DIR__\n",
    "if ~Base.isdir(\"$(_dir)/../results\")\n",
    "    Base.mkdir(\"$(_dir)/../results\")\n",
    "end\n",
    "open(\"$(_dir)/../results/exp-5.3.3-MovieTrends_seed$(seed).dat\", \"w\") do io\n",
    "    Serialization.serialize(io, results)\n",
    "end"
   ],
   "metadata": {},
   "execution_count": null
  },
  {
   "cell_type": "markdown",
   "source": [
    "## ***6. Check results***\n",
    "Calculate posterior parameter statistics"
   ],
   "metadata": {}
  },
  {
   "outputs": [],
   "cell_type": "code",
   "source": [
    "mod_minions, chain_minions = results[\"odecox_minions\"].mod, results[\"odecox_minions\"].chain\n",
    "mod_avengers, chain_avengers = results[\"odecox_avengers\"].mod, results[\"odecox_avengers\"].chain\n",
    "\n",
    "samples_minions = LGCPGradientMatching.get_posterior_θ_samples(mod_minions, chain_minions);\n",
    "samples_avengers = LGCPGradientMatching.get_posterior_θ_samples(mod_avengers, chain_avengers);\n",
    "\n",
    "θ_postmean_minions = mean(samples_minions);\n",
    "θ_postmean_avengers = mean(samples_avengers);\n",
    "\n",
    "θ_poststd_minions = std(samples_minions);\n",
    "θ_poststd_avengers = std(samples_avengers);\n",
    "\n",
    "# DataFrame of posterior parameter statistics\n",
    "DataFrame(\n",
    "    \"Movie Production\" => [\"Minions\", \"Avengers\"],\n",
    "    \"a\" => [\n",
    "        @sprintf(\"%0.2f\", θ_postmean_minions[1])*\" ± \"*@sprintf(\"%0.2f\", 2 * θ_poststd_minions[1]),\n",
    "        @sprintf(\"%0.2f\", θ_postmean_avengers[1])*\" ± \"*@sprintf(\"%0.2f\", 2 * θ_poststd_avengers[1])\n",
    "        ],\n",
    "    \"b\" => [\n",
    "        @sprintf(\"%0.2f\", θ_postmean_minions[2])*\" ± \"*@sprintf(\"%0.2f\", 2 * θ_poststd_minions[2]),\n",
    "        @sprintf(\"%0.2f\", θ_postmean_avengers[2])*\" ± \"*@sprintf(\"%0.2f\", 2 * θ_poststd_avengers[2])\n",
    "        ]\n",
    ")"
   ],
   "metadata": {},
   "execution_count": null
  },
  {
   "cell_type": "markdown",
   "source": [
    "---\n",
    "\n",
    "*This notebook was generated using [Literate.jl](https://github.com/fredrikekre/Literate.jl).*"
   ],
   "metadata": {}
  }
 ],
 "nbformat_minor": 3,
 "metadata": {
  "language_info": {
   "file_extension": ".jl",
   "mimetype": "application/julia",
   "name": "julia",
   "version": "1.6.7"
  },
  "kernelspec": {
   "name": "julia-1.6",
   "display_name": "Julia 1.6.7",
   "language": "julia"
  }
 },
 "nbformat": 4
}
